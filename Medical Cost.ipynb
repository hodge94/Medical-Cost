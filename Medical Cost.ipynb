{
 "cells": [
  {
   "cell_type": "markdown",
   "id": "34e3a7f4",
   "metadata": {},
   "source": [
    "## **Context**"
   ]
  },
  {
   "cell_type": "markdown",
   "id": "3a30168d",
   "metadata": {},
   "source": [
    "We are given a small medical dataset with some categorical and numerical variables to determinate the possible charges a beneficiary could have depending his/her condition.\n",
    "We need to create a machine learning model using linear regression techniques to predict the numerical value (I will upload another program soon with random forest regression to we can see the difference)\n",
    "\n",
    "**dataset link:** https://www.kaggle.com/datasets/mirichoi0218/insurance?resource=download"
   ]
  },
  {
   "cell_type": "markdown",
   "id": "7976c41a",
   "metadata": {},
   "source": [
    "## **Data Description**"
   ]
  },
  {
   "cell_type": "markdown",
   "id": "bcfa2db3",
   "metadata": {},
   "source": [
    "- **age:** age of primary beneficiary\n",
    "- **sex:** insurance contractor gender, female, male\n",
    "- **bmi:** Body mass index.\n",
    "- **children:** Number of children covered by health insurance / Number of dependents\n",
    "- **smoker:** Smoking\n",
    "- **region:** the beneficiary's residential area in the US, northeast, southeast, southwest, northwest.\n",
    "- **charges:** Individual medical costs billed by health insurance"
   ]
  },
  {
   "cell_type": "markdown",
   "id": "87ba394e",
   "metadata": {},
   "source": [
    "### Importing general libraries"
   ]
  },
  {
   "cell_type": "code",
   "execution_count": 1,
   "id": "bf687afb",
   "metadata": {},
   "outputs": [],
   "source": [
    "# data manipulation libraries\n",
    "import pandas as pd\n",
    "import numpy as np\n",
    "\n",
    "# data visualization libraries\n",
    "import matplotlib.pyplot as plt\n",
    "import seaborn as sns\n",
    "\n",
    "# to ignore warnings\n",
    "import warnings\n",
    "warnings.filterwarnings('ignore')"
   ]
  },
  {
   "cell_type": "markdown",
   "id": "97ec711c",
   "metadata": {},
   "source": [
    "**IMPORTING DATASET**"
   ]
  },
  {
   "cell_type": "code",
   "execution_count": 2,
   "id": "59a85b16",
   "metadata": {},
   "outputs": [],
   "source": [
    "df = pd.read_csv('insurance.csv')"
   ]
  },
  {
   "cell_type": "code",
   "execution_count": 3,
   "id": "0fde4bb2",
   "metadata": {},
   "outputs": [
    {
     "data": {
      "text/html": [
       "<div>\n",
       "<style scoped>\n",
       "    .dataframe tbody tr th:only-of-type {\n",
       "        vertical-align: middle;\n",
       "    }\n",
       "\n",
       "    .dataframe tbody tr th {\n",
       "        vertical-align: top;\n",
       "    }\n",
       "\n",
       "    .dataframe thead th {\n",
       "        text-align: right;\n",
       "    }\n",
       "</style>\n",
       "<table border=\"1\" class=\"dataframe\">\n",
       "  <thead>\n",
       "    <tr style=\"text-align: right;\">\n",
       "      <th></th>\n",
       "      <th>age</th>\n",
       "      <th>sex</th>\n",
       "      <th>bmi</th>\n",
       "      <th>children</th>\n",
       "      <th>smoker</th>\n",
       "      <th>region</th>\n",
       "      <th>charges</th>\n",
       "    </tr>\n",
       "  </thead>\n",
       "  <tbody>\n",
       "    <tr>\n",
       "      <th>0</th>\n",
       "      <td>19</td>\n",
       "      <td>female</td>\n",
       "      <td>27.900</td>\n",
       "      <td>0</td>\n",
       "      <td>yes</td>\n",
       "      <td>southwest</td>\n",
       "      <td>16884.92400</td>\n",
       "    </tr>\n",
       "    <tr>\n",
       "      <th>1</th>\n",
       "      <td>18</td>\n",
       "      <td>male</td>\n",
       "      <td>33.770</td>\n",
       "      <td>1</td>\n",
       "      <td>no</td>\n",
       "      <td>southeast</td>\n",
       "      <td>1725.55230</td>\n",
       "    </tr>\n",
       "    <tr>\n",
       "      <th>2</th>\n",
       "      <td>28</td>\n",
       "      <td>male</td>\n",
       "      <td>33.000</td>\n",
       "      <td>3</td>\n",
       "      <td>no</td>\n",
       "      <td>southeast</td>\n",
       "      <td>4449.46200</td>\n",
       "    </tr>\n",
       "    <tr>\n",
       "      <th>3</th>\n",
       "      <td>33</td>\n",
       "      <td>male</td>\n",
       "      <td>22.705</td>\n",
       "      <td>0</td>\n",
       "      <td>no</td>\n",
       "      <td>northwest</td>\n",
       "      <td>21984.47061</td>\n",
       "    </tr>\n",
       "    <tr>\n",
       "      <th>4</th>\n",
       "      <td>32</td>\n",
       "      <td>male</td>\n",
       "      <td>28.880</td>\n",
       "      <td>0</td>\n",
       "      <td>no</td>\n",
       "      <td>northwest</td>\n",
       "      <td>3866.85520</td>\n",
       "    </tr>\n",
       "  </tbody>\n",
       "</table>\n",
       "</div>"
      ],
      "text/plain": [
       "   age     sex     bmi  children smoker     region      charges\n",
       "0   19  female  27.900         0    yes  southwest  16884.92400\n",
       "1   18    male  33.770         1     no  southeast   1725.55230\n",
       "2   28    male  33.000         3     no  southeast   4449.46200\n",
       "3   33    male  22.705         0     no  northwest  21984.47061\n",
       "4   32    male  28.880         0     no  northwest   3866.85520"
      ]
     },
     "execution_count": 3,
     "metadata": {},
     "output_type": "execute_result"
    }
   ],
   "source": [
    "df.head()"
   ]
  },
  {
   "cell_type": "markdown",
   "id": "5de730c1",
   "metadata": {},
   "source": [
    "**CHECKING FOR COLUMNS TYPES AND MISSING VALUES**"
   ]
  },
  {
   "cell_type": "code",
   "execution_count": 4,
   "id": "027eaecb",
   "metadata": {},
   "outputs": [
    {
     "name": "stdout",
     "output_type": "stream",
     "text": [
      "<class 'pandas.core.frame.DataFrame'>\n",
      "RangeIndex: 1338 entries, 0 to 1337\n",
      "Data columns (total 7 columns):\n",
      " #   Column    Non-Null Count  Dtype  \n",
      "---  ------    --------------  -----  \n",
      " 0   age       1338 non-null   int64  \n",
      " 1   sex       1338 non-null   object \n",
      " 2   bmi       1338 non-null   float64\n",
      " 3   children  1338 non-null   int64  \n",
      " 4   smoker    1338 non-null   object \n",
      " 5   region    1338 non-null   object \n",
      " 6   charges   1338 non-null   float64\n",
      "dtypes: float64(2), int64(2), object(3)\n",
      "memory usage: 73.3+ KB\n"
     ]
    }
   ],
   "source": [
    "df.info()"
   ]
  },
  {
   "cell_type": "markdown",
   "id": "a19f2d09",
   "metadata": {},
   "source": [
    "**Observations:**\n",
    "- There are 1,338 observations and 7 different features (columns)\n",
    "- There are not missing values in our dataset\n",
    "-  Each of the columns have it's corresponding type\n",
    "\n",
    "As there are not missing values and the columns have the correct type, we can proceed to EDA and visualization to optain other insights of our data."
   ]
  },
  {
   "cell_type": "markdown",
   "id": "e4f2434b",
   "metadata": {},
   "source": [
    "### **EDA and VISUALIZATION**"
   ]
  },
  {
   "cell_type": "code",
   "execution_count": 5,
   "id": "19456c5d",
   "metadata": {},
   "outputs": [
    {
     "data": {
      "text/html": [
       "<div>\n",
       "<style scoped>\n",
       "    .dataframe tbody tr th:only-of-type {\n",
       "        vertical-align: middle;\n",
       "    }\n",
       "\n",
       "    .dataframe tbody tr th {\n",
       "        vertical-align: top;\n",
       "    }\n",
       "\n",
       "    .dataframe thead th {\n",
       "        text-align: right;\n",
       "    }\n",
       "</style>\n",
       "<table border=\"1\" class=\"dataframe\">\n",
       "  <thead>\n",
       "    <tr style=\"text-align: right;\">\n",
       "      <th></th>\n",
       "      <th>count</th>\n",
       "      <th>mean</th>\n",
       "      <th>std</th>\n",
       "      <th>min</th>\n",
       "      <th>25%</th>\n",
       "      <th>50%</th>\n",
       "      <th>75%</th>\n",
       "      <th>max</th>\n",
       "    </tr>\n",
       "  </thead>\n",
       "  <tbody>\n",
       "    <tr>\n",
       "      <th>age</th>\n",
       "      <td>1338.0</td>\n",
       "      <td>39.207025</td>\n",
       "      <td>14.049960</td>\n",
       "      <td>18.0000</td>\n",
       "      <td>27.00000</td>\n",
       "      <td>39.000</td>\n",
       "      <td>51.000000</td>\n",
       "      <td>64.00000</td>\n",
       "    </tr>\n",
       "    <tr>\n",
       "      <th>bmi</th>\n",
       "      <td>1338.0</td>\n",
       "      <td>30.663397</td>\n",
       "      <td>6.098187</td>\n",
       "      <td>15.9600</td>\n",
       "      <td>26.29625</td>\n",
       "      <td>30.400</td>\n",
       "      <td>34.693750</td>\n",
       "      <td>53.13000</td>\n",
       "    </tr>\n",
       "    <tr>\n",
       "      <th>children</th>\n",
       "      <td>1338.0</td>\n",
       "      <td>1.094918</td>\n",
       "      <td>1.205493</td>\n",
       "      <td>0.0000</td>\n",
       "      <td>0.00000</td>\n",
       "      <td>1.000</td>\n",
       "      <td>2.000000</td>\n",
       "      <td>5.00000</td>\n",
       "    </tr>\n",
       "    <tr>\n",
       "      <th>charges</th>\n",
       "      <td>1338.0</td>\n",
       "      <td>13270.422265</td>\n",
       "      <td>12110.011237</td>\n",
       "      <td>1121.8739</td>\n",
       "      <td>4740.28715</td>\n",
       "      <td>9382.033</td>\n",
       "      <td>16639.912515</td>\n",
       "      <td>63770.42801</td>\n",
       "    </tr>\n",
       "  </tbody>\n",
       "</table>\n",
       "</div>"
      ],
      "text/plain": [
       "           count          mean           std        min         25%       50%  \\\n",
       "age       1338.0     39.207025     14.049960    18.0000    27.00000    39.000   \n",
       "bmi       1338.0     30.663397      6.098187    15.9600    26.29625    30.400   \n",
       "children  1338.0      1.094918      1.205493     0.0000     0.00000     1.000   \n",
       "charges   1338.0  13270.422265  12110.011237  1121.8739  4740.28715  9382.033   \n",
       "\n",
       "                   75%          max  \n",
       "age          51.000000     64.00000  \n",
       "bmi          34.693750     53.13000  \n",
       "children      2.000000      5.00000  \n",
       "charges   16639.912515  63770.42801  "
      ]
     },
     "execution_count": 5,
     "metadata": {},
     "output_type": "execute_result"
    }
   ],
   "source": [
    "# Inferential statistic based on numeric columns values\n",
    "df.describe().T"
   ]
  },
  {
   "cell_type": "markdown",
   "id": "4c97e5d7",
   "metadata": {},
   "source": [
    "**Observations:**\n",
    "- The average `age` is 39 years old, and the oldest client registered is 64 years old.\n",
    "- Most of the clients only have one ``child or dependent`` and the case with more children/dependent is 5.\n",
    "- The average ``BMI`` is above the normal average `18.5 - 24.9`. "
   ]
  },
  {
   "cell_type": "code",
   "execution_count": 6,
   "id": "99feb2fb",
   "metadata": {},
   "outputs": [
    {
     "data": {
      "text/plain": [
       "male      50.523169\n",
       "female    49.476831\n",
       "Name: sex, dtype: float64"
      ]
     },
     "execution_count": 6,
     "metadata": {},
     "output_type": "execute_result"
    }
   ],
   "source": [
    "# percentage of male and female clients\n",
    "df['sex'].value_counts(normalize=True)*100"
   ]
  },
  {
   "cell_type": "code",
   "execution_count": 7,
   "id": "2c965540",
   "metadata": {},
   "outputs": [
    {
     "data": {
      "image/png": "[encoded data removed]",
      "text/plain": [
       "<Figure size 576x576 with 1 Axes>"
      ]
     },
     "metadata": {
      "needs_background": "light"
     },
     "output_type": "display_data"
    }
   ],
   "source": [
    "plt.figure(figsize = (8,8))\n",
    "sns.countplot(x = 'sex', data = df)\n",
    "plt.show()"
   ]
  },
  {
   "cell_type": "markdown",
   "id": "f81c73a6",
   "metadata": {},
   "source": [
    "**Observations:**\n",
    "- The distribution of both female and male clients is almost symetric with a little more males than females."
   ]
  },
  {
   "cell_type": "code",
   "execution_count": 8,
   "id": "edbabad4",
   "metadata": {},
   "outputs": [
    {
     "data": {
      "text/plain": [
       "no     79.521674\n",
       "yes    20.478326\n",
       "Name: smoker, dtype: float64"
      ]
     },
     "execution_count": 8,
     "metadata": {},
     "output_type": "execute_result"
    }
   ],
   "source": [
    "# Smoker percentage between the clients\n",
    "df['smoker'].value_counts(normalize=True)*100"
   ]
  },
  {
   "cell_type": "code",
   "execution_count": 9,
   "id": "2632b516",
   "metadata": {},
   "outputs": [
    {
     "data": {
      "image/png": "[encoded data removed]",
      "text/plain": [
       "<Figure size 576x576 with 1 Axes>"
      ]
     },
     "metadata": {
      "needs_background": "light"
     },
     "output_type": "display_data"
    }
   ],
   "source": [
    "plt.figure(figsize = (8,8))\n",
    "sns.countplot(x = 'smoker', data = df, hue = 'sex')\n",
    "plt.show()"
   ]
  },
  {
   "cell_type": "markdown",
   "id": "948c617f",
   "metadata": {},
   "source": [
    "**Observations:**\n",
    "- Most of the clients are **non-smokers** with a greater number of female fitting into this category.\n",
    "- The clients that do smoke are mostly men."
   ]
  },
  {
   "cell_type": "code",
   "execution_count": 10,
   "id": "4b9b353d",
   "metadata": {},
   "outputs": [
    {
     "data": {
      "image/png": "[encoded data removed]",
      "text/plain": [
       "<Figure size 576x576 with 1 Axes>"
      ]
     },
     "metadata": {
      "needs_background": "light"
     },
     "output_type": "display_data"
    }
   ],
   "source": [
    "# number of clients per region\n",
    "plt.figure(figsize = (8,8))\n",
    "sns.countplot(x = 'region', data = df, hue = 'sex')\n",
    "plt.show()"
   ]
  },
  {
   "cell_type": "markdown",
   "id": "c962b966",
   "metadata": {},
   "source": [
    "**Observations:**\n",
    "- The distribution of the clients by `region` is good, as we can notice on the graph above.\n",
    "- The region with more clients is the ``southeast`` region with more male than female.\n",
    "- The only ``region`` where female are predominant is the ``northwest`` region."
   ]
  },
  {
   "cell_type": "code",
   "execution_count": 11,
   "id": "88f67186",
   "metadata": {},
   "outputs": [
    {
     "data": {
      "image/png": "[encoded data removed]",
      "text/plain": [
       "<Figure size 1440x720 with 1 Axes>"
      ]
     },
     "metadata": {
      "needs_background": "light"
     },
     "output_type": "display_data"
    }
   ],
   "source": [
    "# smokers depending on the age of the client\n",
    "plt.figure(figsize = (20,10))\n",
    "sns.countplot(x = 'age', data = df, hue = 'smoker')\n",
    "plt.show()"
   ]
  },
  {
   "cell_type": "markdown",
   "id": "e5c95ab9",
   "metadata": {},
   "source": [
    "**Observations:**\n",
    "- There is not a define pattern for smoker and age but we can see that the younger people has a higher number of no smoker but are also the highest number of smokers."
   ]
  },
  {
   "cell_type": "code",
   "execution_count": 12,
   "id": "1d150854",
   "metadata": {},
   "outputs": [
    {
     "data": {
      "image/png": "[encoded data removed]",
      "text/plain": [
       "<Figure size 576x576 with 1 Axes>"
      ]
     },
     "metadata": {
      "needs_background": "light"
     },
     "output_type": "display_data"
    }
   ],
   "source": [
    "# smokers by region\n",
    "plt.figure(figsize = (8,8))\n",
    "sns.countplot(x = 'region', data = df, hue = 'smoker')\n",
    "plt.show()"
   ]
  },
  {
   "cell_type": "markdown",
   "id": "30b691e6",
   "metadata": {},
   "source": [
    "**Observations:**\n",
    "- The region with the highest number of smokers is the ``southest`` region which is also the region with the greater concentration of clients."
   ]
  },
  {
   "cell_type": "code",
   "execution_count": 13,
   "id": "c9a97da4",
   "metadata": {},
   "outputs": [
    {
     "data": {
      "image/png": "[encoded data removed]",
      "text/plain": [
       "<Figure size 576x576 with 1 Axes>"
      ]
     },
     "metadata": {
      "needs_background": "light"
     },
     "output_type": "display_data"
    }
   ],
   "source": [
    "# number of children or dependents by region\n",
    "plt.figure(figsize = (8,8))\n",
    "sns.barplot(x = 'region', y = 'children', data = df)\n",
    "plt.show()"
   ]
  },
  {
   "cell_type": "markdown",
   "id": "abfc7ac5",
   "metadata": {},
   "source": [
    "**Observations:**\n",
    "- The ``regions`` with the greaters number of children are the ``southwest`` and ``northwest`` regions."
   ]
  },
  {
   "cell_type": "code",
   "execution_count": 14,
   "id": "05affa0d",
   "metadata": {},
   "outputs": [
    {
     "data": {
      "image/png": "[encoded data removed]",
      "text/plain": [
       "<Figure size 576x720 with 1 Axes>"
      ]
     },
     "metadata": {
      "needs_background": "light"
     },
     "output_type": "display_data"
    }
   ],
   "source": [
    "# relation of the age with teh bmi of a person\n",
    "plt.figure(figsize = (8,10))\n",
    "sns.lineplot(x = 'age', y = 'bmi', data = df)\n",
    "plt.show()"
   ]
  },
  {
   "cell_type": "markdown",
   "id": "7a764c76",
   "metadata": {},
   "source": [
    "**Observations:**\n",
    "- The relation between the age and the bmi is not constant, but we can notice a trend of the ``bmi`` increase with the increase of the ``age``."
   ]
  },
  {
   "cell_type": "code",
   "execution_count": 15,
   "id": "91d2bdc1",
   "metadata": {},
   "outputs": [
    {
     "data": {
      "image/png": "[encoded data removed]",
      "text/plain": [
       "<Figure size 576x576 with 1 Axes>"
      ]
     },
     "metadata": {
      "needs_background": "light"
     },
     "output_type": "display_data"
    }
   ],
   "source": [
    "# checking the distribution of the target variable\n",
    "plt.figure(figsize = (8,8))\n",
    "sns.histplot(data = df, x = 'charges', kde = True)\n",
    "plt.show()"
   ]
  },
  {
   "cell_type": "markdown",
   "id": "5852e0f7",
   "metadata": {},
   "source": [
    "**Observations:**\n",
    "- The target variable is righ-skewed, which means most of the values are low."
   ]
  },
  {
   "cell_type": "markdown",
   "id": "cba503ac",
   "metadata": {},
   "source": [
    "**Observations:**\n",
    "- After we applied log-transformation we can see that the dependant variable/target variable now resemble more a normal distribution plot."
   ]
  },
  {
   "cell_type": "code",
   "execution_count": 16,
   "id": "537166e8",
   "metadata": {},
   "outputs": [
    {
     "data": {
      "image/png": "[encoded data removed]",
      "text/plain": [
       "<Figure size 720x720 with 2 Axes>"
      ]
     },
     "metadata": {
      "needs_background": "light"
     },
     "output_type": "display_data"
    }
   ],
   "source": [
    "plt.figure(figsize = (10,10))\n",
    "sns.heatmap(df.corr(), annot = True, fmt = '.2f' )\n",
    "plt.show()"
   ]
  },
  {
   "cell_type": "markdown",
   "id": "ae55b579",
   "metadata": {},
   "source": [
    "**Observations**\n",
    "- Between the numerical variables there are not high correlation with the target variable ``charges``\n",
    "- The ``age`` have a 30% positive correlation with the ``charges``.\n",
    "- The ``bmi`` have a 20% positive correlation with the ``charges``."
   ]
  },
  {
   "cell_type": "markdown",
   "id": "39282287",
   "metadata": {},
   "source": [
    "## **Preparing data for modelig**"
   ]
  },
  {
   "cell_type": "markdown",
   "id": "b149d2f5",
   "metadata": {},
   "source": [
    "**IMPORTING LIBRARIES FOR MODELING**"
   ]
  },
  {
   "cell_type": "code",
   "execution_count": 17,
   "id": "b62721c3",
   "metadata": {},
   "outputs": [],
   "source": [
    "# library for linear visualization\n",
    "from statsmodels.graphics.gofplots import ProbPlot\n",
    "\n",
    "# Importing libraries to build linear regression model\n",
    "from statsmodels.formula.api import ols\n",
    "\n",
    "import statsmodels.api as sm\n",
    "\n",
    "from sklearn.linear_model import LinearRegression\n",
    "\n",
    "# importing library to seprate data\n",
    "from sklearn.model_selection import train_test_split\n",
    "\n",
    "# importing library for data preprocessing\n",
    "from sklearn.preprocessing import MinMaxScaler"
   ]
  },
  {
   "cell_type": "code",
   "execution_count": 18,
   "id": "6be5b9c1",
   "metadata": {},
   "outputs": [],
   "source": [
    "# independant variabl\n",
    "X = df.drop(columns = 'charges')\n",
    "\n",
    "# dependant variable/target\n",
    "Y = df['charges']"
   ]
  },
  {
   "cell_type": "code",
   "execution_count": 19,
   "id": "92d39d01",
   "metadata": {},
   "outputs": [
    {
     "data": {
      "text/html": [
       "<div>\n",
       "<style scoped>\n",
       "    .dataframe tbody tr th:only-of-type {\n",
       "        vertical-align: middle;\n",
       "    }\n",
       "\n",
       "    .dataframe tbody tr th {\n",
       "        vertical-align: top;\n",
       "    }\n",
       "\n",
       "    .dataframe thead th {\n",
       "        text-align: right;\n",
       "    }\n",
       "</style>\n",
       "<table border=\"1\" class=\"dataframe\">\n",
       "  <thead>\n",
       "    <tr style=\"text-align: right;\">\n",
       "      <th></th>\n",
       "      <th>age</th>\n",
       "      <th>bmi</th>\n",
       "      <th>children</th>\n",
       "      <th>sex_male</th>\n",
       "      <th>smoker_yes</th>\n",
       "      <th>region_northwest</th>\n",
       "      <th>region_southeast</th>\n",
       "      <th>region_southwest</th>\n",
       "    </tr>\n",
       "  </thead>\n",
       "  <tbody>\n",
       "    <tr>\n",
       "      <th>0</th>\n",
       "      <td>19</td>\n",
       "      <td>27.900</td>\n",
       "      <td>0</td>\n",
       "      <td>0</td>\n",
       "      <td>1</td>\n",
       "      <td>0</td>\n",
       "      <td>0</td>\n",
       "      <td>1</td>\n",
       "    </tr>\n",
       "    <tr>\n",
       "      <th>1</th>\n",
       "      <td>18</td>\n",
       "      <td>33.770</td>\n",
       "      <td>1</td>\n",
       "      <td>1</td>\n",
       "      <td>0</td>\n",
       "      <td>0</td>\n",
       "      <td>1</td>\n",
       "      <td>0</td>\n",
       "    </tr>\n",
       "    <tr>\n",
       "      <th>2</th>\n",
       "      <td>28</td>\n",
       "      <td>33.000</td>\n",
       "      <td>3</td>\n",
       "      <td>1</td>\n",
       "      <td>0</td>\n",
       "      <td>0</td>\n",
       "      <td>1</td>\n",
       "      <td>0</td>\n",
       "    </tr>\n",
       "    <tr>\n",
       "      <th>3</th>\n",
       "      <td>33</td>\n",
       "      <td>22.705</td>\n",
       "      <td>0</td>\n",
       "      <td>1</td>\n",
       "      <td>0</td>\n",
       "      <td>1</td>\n",
       "      <td>0</td>\n",
       "      <td>0</td>\n",
       "    </tr>\n",
       "    <tr>\n",
       "      <th>4</th>\n",
       "      <td>32</td>\n",
       "      <td>28.880</td>\n",
       "      <td>0</td>\n",
       "      <td>1</td>\n",
       "      <td>0</td>\n",
       "      <td>1</td>\n",
       "      <td>0</td>\n",
       "      <td>0</td>\n",
       "    </tr>\n",
       "  </tbody>\n",
       "</table>\n",
       "</div>"
      ],
      "text/plain": [
       "   age     bmi  children  sex_male  smoker_yes  region_northwest  \\\n",
       "0   19  27.900         0         0           1                 0   \n",
       "1   18  33.770         1         1           0                 0   \n",
       "2   28  33.000         3         1           0                 0   \n",
       "3   33  22.705         0         1           0                 1   \n",
       "4   32  28.880         0         1           0                 1   \n",
       "\n",
       "   region_southeast  region_southwest  \n",
       "0                 0                 1  \n",
       "1                 1                 0  \n",
       "2                 1                 0  \n",
       "3                 0                 0  \n",
       "4                 0                 0  "
      ]
     },
     "execution_count": 19,
     "metadata": {},
     "output_type": "execute_result"
    }
   ],
   "source": [
    "# creating dummy variables from the train_feature\n",
    "X = pd.get_dummies(X, drop_first = True)\n",
    "X.head()"
   ]
  },
  {
   "cell_type": "code",
   "execution_count": 174,
   "id": "4473bb57",
   "metadata": {},
   "outputs": [],
   "source": [
    "train_features, test_features, train_target, test_target = train_test_split(X, Y, \n",
    "                                                                           test_size = 0.20,\n",
    "                                                                            random_state = 1)"
   ]
  },
  {
   "cell_type": "markdown",
   "id": "c4b43605",
   "metadata": {},
   "source": [
    "**STANDARIZING THE TRAINING DATA**"
   ]
  },
  {
   "cell_type": "code",
   "execution_count": 175,
   "id": "8aaf52f6",
   "metadata": {},
   "outputs": [
    {
     "data": {
      "text/html": [
       "<div>\n",
       "<style scoped>\n",
       "    .dataframe tbody tr th:only-of-type {\n",
       "        vertical-align: middle;\n",
       "    }\n",
       "\n",
       "    .dataframe tbody tr th {\n",
       "        vertical-align: top;\n",
       "    }\n",
       "\n",
       "    .dataframe thead th {\n",
       "        text-align: right;\n",
       "    }\n",
       "</style>\n",
       "<table border=\"1\" class=\"dataframe\">\n",
       "  <thead>\n",
       "    <tr style=\"text-align: right;\">\n",
       "      <th></th>\n",
       "      <th>age</th>\n",
       "      <th>bmi</th>\n",
       "      <th>children</th>\n",
       "      <th>sex_male</th>\n",
       "      <th>smoker_yes</th>\n",
       "      <th>region_northwest</th>\n",
       "      <th>region_southeast</th>\n",
       "      <th>region_southwest</th>\n",
       "    </tr>\n",
       "  </thead>\n",
       "  <tbody>\n",
       "    <tr>\n",
       "      <th>216</th>\n",
       "      <td>0.760870</td>\n",
       "      <td>0.286252</td>\n",
       "      <td>0.0</td>\n",
       "      <td>0.0</td>\n",
       "      <td>0.0</td>\n",
       "      <td>1.0</td>\n",
       "      <td>0.0</td>\n",
       "      <td>0.0</td>\n",
       "    </tr>\n",
       "    <tr>\n",
       "      <th>731</th>\n",
       "      <td>0.760870</td>\n",
       "      <td>0.146355</td>\n",
       "      <td>0.2</td>\n",
       "      <td>1.0</td>\n",
       "      <td>0.0</td>\n",
       "      <td>0.0</td>\n",
       "      <td>0.0</td>\n",
       "      <td>1.0</td>\n",
       "    </tr>\n",
       "    <tr>\n",
       "      <th>866</th>\n",
       "      <td>0.000000</td>\n",
       "      <td>0.573850</td>\n",
       "      <td>0.0</td>\n",
       "      <td>1.0</td>\n",
       "      <td>0.0</td>\n",
       "      <td>0.0</td>\n",
       "      <td>1.0</td>\n",
       "      <td>0.0</td>\n",
       "    </tr>\n",
       "    <tr>\n",
       "      <th>202</th>\n",
       "      <td>0.913043</td>\n",
       "      <td>0.217245</td>\n",
       "      <td>0.0</td>\n",
       "      <td>0.0</td>\n",
       "      <td>0.0</td>\n",
       "      <td>1.0</td>\n",
       "      <td>0.0</td>\n",
       "      <td>0.0</td>\n",
       "    </tr>\n",
       "    <tr>\n",
       "      <th>820</th>\n",
       "      <td>0.586957</td>\n",
       "      <td>0.477267</td>\n",
       "      <td>0.2</td>\n",
       "      <td>1.0</td>\n",
       "      <td>0.0</td>\n",
       "      <td>0.0</td>\n",
       "      <td>0.0</td>\n",
       "      <td>1.0</td>\n",
       "    </tr>\n",
       "  </tbody>\n",
       "</table>\n",
       "</div>"
      ],
      "text/plain": [
       "          age       bmi  children  sex_male  smoker_yes  region_northwest  \\\n",
       "216  0.760870  0.286252       0.0       0.0         0.0               1.0   \n",
       "731  0.760870  0.146355       0.2       1.0         0.0               0.0   \n",
       "866  0.000000  0.573850       0.0       1.0         0.0               0.0   \n",
       "202  0.913043  0.217245       0.0       0.0         0.0               1.0   \n",
       "820  0.586957  0.477267       0.2       1.0         0.0               0.0   \n",
       "\n",
       "     region_southeast  region_southwest  \n",
       "216               0.0               0.0  \n",
       "731               0.0               1.0  \n",
       "866               1.0               0.0  \n",
       "202               0.0               0.0  \n",
       "820               0.0               1.0  "
      ]
     },
     "execution_count": 175,
     "metadata": {},
     "output_type": "execute_result"
    }
   ],
   "source": [
    "# creating an instance of the MinMaxScler\n",
    "scaler = MinMaxScaler()\n",
    "\n",
    "# applying fit transform on the trainin features\n",
    "train_features_scaled = scaler.fit_transform(train_features)\n",
    "\n",
    "# the above scaler returns the data in array format, below we are converting back to pandas dataframe\n",
    "train_features_scaled = pd.DataFrame(train_features_scaled, index = train_features.index,\n",
    "                                    columns = train_features.columns)\n",
    "train_features_scaled.head()"
   ]
  },
  {
   "cell_type": "markdown",
   "id": "bffdc8b8",
   "metadata": {},
   "source": [
    "**STANDARIZING THE TEST DATA**"
   ]
  },
  {
   "cell_type": "code",
   "execution_count": 176,
   "id": "6865c2d1",
   "metadata": {},
   "outputs": [
    {
     "data": {
      "text/html": [
       "<div>\n",
       "<style scoped>\n",
       "    .dataframe tbody tr th:only-of-type {\n",
       "        vertical-align: middle;\n",
       "    }\n",
       "\n",
       "    .dataframe tbody tr th {\n",
       "        vertical-align: top;\n",
       "    }\n",
       "\n",
       "    .dataframe thead th {\n",
       "        text-align: right;\n",
       "    }\n",
       "</style>\n",
       "<table border=\"1\" class=\"dataframe\">\n",
       "  <thead>\n",
       "    <tr style=\"text-align: right;\">\n",
       "      <th></th>\n",
       "      <th>age</th>\n",
       "      <th>bmi</th>\n",
       "      <th>children</th>\n",
       "      <th>sex_male</th>\n",
       "      <th>smoker_yes</th>\n",
       "      <th>region_northwest</th>\n",
       "      <th>region_southeast</th>\n",
       "      <th>region_southwest</th>\n",
       "    </tr>\n",
       "  </thead>\n",
       "  <tbody>\n",
       "    <tr>\n",
       "      <th>559</th>\n",
       "      <td>0.021739</td>\n",
       "      <td>0.609510</td>\n",
       "      <td>0.0</td>\n",
       "      <td>1.0</td>\n",
       "      <td>0.0</td>\n",
       "      <td>1.0</td>\n",
       "      <td>0.0</td>\n",
       "      <td>0.0</td>\n",
       "    </tr>\n",
       "    <tr>\n",
       "      <th>1087</th>\n",
       "      <td>0.847826</td>\n",
       "      <td>0.479564</td>\n",
       "      <td>0.0</td>\n",
       "      <td>1.0</td>\n",
       "      <td>0.0</td>\n",
       "      <td>1.0</td>\n",
       "      <td>0.0</td>\n",
       "      <td>0.0</td>\n",
       "    </tr>\n",
       "    <tr>\n",
       "      <th>1020</th>\n",
       "      <td>0.717391</td>\n",
       "      <td>0.657385</td>\n",
       "      <td>0.0</td>\n",
       "      <td>1.0</td>\n",
       "      <td>0.0</td>\n",
       "      <td>0.0</td>\n",
       "      <td>0.0</td>\n",
       "      <td>1.0</td>\n",
       "    </tr>\n",
       "    <tr>\n",
       "      <th>460</th>\n",
       "      <td>0.673913</td>\n",
       "      <td>0.645335</td>\n",
       "      <td>0.6</td>\n",
       "      <td>0.0</td>\n",
       "      <td>0.0</td>\n",
       "      <td>0.0</td>\n",
       "      <td>1.0</td>\n",
       "      <td>0.0</td>\n",
       "    </tr>\n",
       "    <tr>\n",
       "      <th>802</th>\n",
       "      <td>0.065217</td>\n",
       "      <td>0.178635</td>\n",
       "      <td>0.2</td>\n",
       "      <td>1.0</td>\n",
       "      <td>0.0</td>\n",
       "      <td>0.0</td>\n",
       "      <td>0.0</td>\n",
       "      <td>1.0</td>\n",
       "    </tr>\n",
       "  </tbody>\n",
       "</table>\n",
       "</div>"
      ],
      "text/plain": [
       "           age       bmi  children  sex_male  smoker_yes  region_northwest  \\\n",
       "559   0.021739  0.609510       0.0       1.0         0.0               1.0   \n",
       "1087  0.847826  0.479564       0.0       1.0         0.0               1.0   \n",
       "1020  0.717391  0.657385       0.0       1.0         0.0               0.0   \n",
       "460   0.673913  0.645335       0.6       0.0         0.0               0.0   \n",
       "802   0.065217  0.178635       0.2       1.0         0.0               0.0   \n",
       "\n",
       "      region_southeast  region_southwest  \n",
       "559                0.0               0.0  \n",
       "1087               0.0               0.0  \n",
       "1020               0.0               1.0  \n",
       "460                1.0               0.0  \n",
       "802                0.0               1.0  "
      ]
     },
     "execution_count": 176,
     "metadata": {},
     "output_type": "execute_result"
    }
   ],
   "source": [
    "# creating an instance of the MinMaxScler\n",
    "scaler2 = MinMaxScaler()\n",
    "\n",
    "# applying fit transform on the trainin features\n",
    "test_features_scaled = scaler2.fit_transform(test_features)\n",
    "\n",
    "# the above scaler returns the data in array format, below we are converting back to pandas dataframe\n",
    "test_features_scaled = pd.DataFrame(test_features_scaled, index = test_features.index,\n",
    "                                    columns = test_features.columns)\n",
    "test_features_scaled.head()"
   ]
  },
  {
   "cell_type": "markdown",
   "id": "06407309",
   "metadata": {},
   "source": [
    "### **BUILDING THE MODEL**\n",
    "Now as the dataset is ready and prepared, we are set to build the model using `statsmodels` package"
   ]
  },
  {
   "cell_type": "code",
   "execution_count": 177,
   "id": "f9778e6c",
   "metadata": {},
   "outputs": [
    {
     "name": "stdout",
     "output_type": "stream",
     "text": [
      "                            OLS Regression Results                            \n",
      "==============================================================================\n",
      "Dep. Variable:                charges   R-squared:                       0.748\n",
      "Model:                            OLS   Adj. R-squared:                  0.746\n",
      "Method:                 Least Squares   F-statistic:                     393.2\n",
      "Date:                Fri, 01 Jul 2022   Prob (F-statistic):          4.76e-311\n",
      "Time:                        21:35:33   Log-Likelihood:                -10838.\n",
      "No. Observations:                1070   AIC:                         2.169e+04\n",
      "Df Residuals:                    1061   BIC:                         2.174e+04\n",
      "Df Model:                           8                                         \n",
      "Covariance Type:            nonrobust                                         \n",
      "====================================================================================\n",
      "                       coef    std err          t      P>|t|      [0.025      0.975]\n",
      "------------------------------------------------------------------------------------\n",
      "const            -1529.7002    653.538     -2.341      0.019   -2812.074    -247.326\n",
      "age               1.184e+04    618.605     19.147      0.000    1.06e+04    1.31e+04\n",
      "bmi               1.195e+04   1187.837     10.064      0.000    9623.910    1.43e+04\n",
      "children          2040.3051    773.630      2.637      0.008     522.286    3558.324\n",
      "sex_male          -242.1531    373.959     -0.648      0.517    -975.937     491.631\n",
      "smoker_yes        2.379e+04    462.795     51.397      0.000    2.29e+04    2.47e+04\n",
      "region_northwest  -396.0966    534.488     -0.741      0.459   -1444.871     652.677\n",
      "region_southeast -1038.3759    539.786     -1.924      0.055   -2097.545      20.793\n",
      "region_southwest  -903.0330    532.980     -1.694      0.090   -1948.847     142.781\n",
      "==============================================================================\n",
      "Omnibus:                      241.621   Durbin-Watson:                   1.967\n",
      "Prob(Omnibus):                  0.000   Jarque-Bera (JB):              566.273\n",
      "Skew:                           1.217   Prob(JB):                    1.08e-123\n",
      "Kurtosis:                       5.604   Cond. No.                         9.55\n",
      "==============================================================================\n",
      "\n",
      "Notes:\n",
      "[1] Standard Errors assume that the covariance matrix of the errors is correctly specified.\n"
     ]
    }
   ],
   "source": [
    "# here we are adding the intercept term\n",
    "train_features_scaled = sm.add_constant(train_features_scaled)\n",
    "\n",
    "# calling the OLS algorithm on the train features and target variable\n",
    "ols_model_0 = sm.OLS(train_target, train_features_scaled)\n",
    "\n",
    "# fitting the model\n",
    "ols_res_0 = ols_model_0.fit()\n",
    "\n",
    "print(ols_res_0.summary())"
   ]
  },
  {
   "cell_type": "markdown",
   "id": "de646818",
   "metadata": {},
   "source": [
    "- We can see that `R-squared` for the model is `0.748`. \n",
    "- Not all the variables are statistically significant to predict the outcome variable. To check which are statistically significant or have predictive power to predict the target variable, we need to check the `p-value` against all the independent variables.\n",
    "- Four variables have p-values greater than 0.05 `sex_male`, `region_northwest`, `region_southeast` and `region_southwest`"
   ]
  },
  {
   "cell_type": "markdown",
   "id": "6adebf5b",
   "metadata": {},
   "source": [
    "## **Feature Selection**"
   ]
  },
  {
   "cell_type": "markdown",
   "id": "9d976142",
   "metadata": {},
   "source": [
    "### **Removing Multicollinearity**"
   ]
  },
  {
   "cell_type": "code",
   "execution_count": 178,
   "id": "edae6900",
   "metadata": {},
   "outputs": [
    {
     "name": "stdout",
     "output_type": "stream",
     "text": [
      "VIF Scores: \n",
      "\n",
      "const               12.318395\n",
      "age                  1.016964\n",
      "bmi                  1.104196\n",
      "children             1.006832\n",
      "sex_male             1.007974\n",
      "smoker_yes           1.008937\n",
      "region_northwest     1.511616\n",
      "region_southeast     1.631034\n",
      "region_southwest     1.530394\n",
      "dtype: float64\n",
      "\n"
     ]
    }
   ],
   "source": [
    "vif_series = pd.Series(\n",
    "    [variance_inflation_factor(train_features_scaled.values, i) for i in range(train_features_scaled.shape[1])],\n",
    "    index=train_features_scaled.columns,\n",
    "    dtype=float,\n",
    ")\n",
    "print(\"VIF Scores: \\n\\n{}\\n\".format(vif_series))"
   ]
  },
  {
   "cell_type": "markdown",
   "id": "3f33f812",
   "metadata": {},
   "source": [
    "**Observations:**\n",
    "- The features have a VIF score of 1 which means none of them have a correlation kth predicator, hence the variance is not inflated."
   ]
  },
  {
   "cell_type": "code",
   "execution_count": 179,
   "id": "ae464e68",
   "metadata": {},
   "outputs": [
    {
     "name": "stdout",
     "output_type": "stream",
     "text": [
      "VIF Scores: \n",
      "\n",
      "const               9.405205\n",
      "age                 1.016750\n",
      "bmi                 1.089684\n",
      "children            1.002228\n",
      "smoker_yes          1.003046\n",
      "region_southeast    1.078863\n",
      "dtype: float64\n",
      "\n"
     ]
    }
   ],
   "source": [
    "train_features_scaled_new = train_features_scaled.drop([\"sex_male\", \"region_northwest\", \"region_southwest\"], axis=1)\n",
    "\n",
    "vif_series = pd.Series(\n",
    "    [variance_inflation_factor(train_features_scaled_new.values, i) for i in range(train_features_scaled_new.shape[1])],\n",
    "    index=train_features_scaled_new.columns,\n",
    "    dtype=float,\n",
    ")\n",
    "print(\"VIF Scores: \\n\\n{}\\n\".format(vif_series))"
   ]
  },
  {
   "cell_type": "code",
   "execution_count": 180,
   "id": "39e66daf",
   "metadata": {},
   "outputs": [
    {
     "name": "stdout",
     "output_type": "stream",
     "text": [
      "                            OLS Regression Results                            \n",
      "==============================================================================\n",
      "Dep. Variable:                charges   R-squared:                       0.747\n",
      "Model:                            OLS   Adj. R-squared:                  0.746\n",
      "Method:                 Least Squares   F-statistic:                     628.3\n",
      "Date:                Fri, 01 Jul 2022   Prob (F-statistic):          1.76e-314\n",
      "Time:                        21:35:37   Log-Likelihood:                -10840.\n",
      "No. Observations:                1070   AIC:                         2.169e+04\n",
      "Df Residuals:                    1064   BIC:                         2.172e+04\n",
      "Df Model:                           5                                         \n",
      "Covariance Type:            nonrobust                                         \n",
      "====================================================================================\n",
      "                       coef    std err          t      P>|t|      [0.025      0.975]\n",
      "------------------------------------------------------------------------------------\n",
      "const            -1982.0003    571.129     -3.470      0.001   -3102.667    -861.334\n",
      "age               1.184e+04    618.619     19.136      0.000    1.06e+04    1.31e+04\n",
      "bmi               1.172e+04   1180.157      9.932      0.000    9405.916     1.4e+04\n",
      "children          1980.6315    771.959      2.566      0.010     465.897    3495.366\n",
      "smoker_yes        2.378e+04    461.502     51.519      0.000    2.29e+04    2.47e+04\n",
      "region_southeast  -586.6681    439.065     -1.336      0.182   -1448.200     274.864\n",
      "==============================================================================\n",
      "Omnibus:                      242.092   Durbin-Watson:                   1.974\n",
      "Prob(Omnibus):                  0.000   Jarque-Bera (JB):              565.079\n",
      "Skew:                           1.221   Prob(JB):                    1.97e-123\n",
      "Kurtosis:                       5.591   Cond. No.                         8.46\n",
      "==============================================================================\n",
      "\n",
      "Notes:\n",
      "[1] Standard Errors assume that the covariance matrix of the errors is correctly specified.\n"
     ]
    }
   ],
   "source": [
    "# calling the OLS algorithm on the train features and target variable\n",
    "ols_model_1 = sm.OLS(train_target, train_features_scaled_new)\n",
    "# fitting the model\n",
    "ols_res_1 = ols_model_1.fit()\n",
    "\n",
    "print(ols_res_1.summary())"
   ]
  },
  {
   "cell_type": "code",
   "execution_count": 181,
   "id": "a73ac0f8",
   "metadata": {},
   "outputs": [
    {
     "name": "stdout",
     "output_type": "stream",
     "text": [
      "VIF Scores: \n",
      "\n",
      "const         9.403832\n",
      "age           1.014636\n",
      "bmi           1.013911\n",
      "children      1.000932\n",
      "smoker_yes    1.000669\n",
      "dtype: float64\n",
      "\n"
     ]
    }
   ],
   "source": [
    "train_features_scaled_new2 = train_features_scaled_new.drop([\"region_southeast\"], axis=1)\n",
    "\n",
    "vif_series = pd.Series(\n",
    "    [variance_inflation_factor(train_features_scaled_new2.values, i) for i in range(train_features_scaled_new2.shape[1])],\n",
    "    index=train_features_scaled_new2.columns,\n",
    "    dtype=float,\n",
    ")\n",
    "print(\"VIF Scores: \\n\\n{}\\n\".format(vif_series))"
   ]
  },
  {
   "cell_type": "code",
   "execution_count": 182,
   "id": "cc66c963",
   "metadata": {},
   "outputs": [
    {
     "name": "stdout",
     "output_type": "stream",
     "text": [
      "                            OLS Regression Results                            \n",
      "==============================================================================\n",
      "Dep. Variable:                charges   R-squared:                       0.747\n",
      "Model:                            OLS   Adj. R-squared:                  0.746\n",
      "Method:                 Least Squares   F-statistic:                     784.3\n",
      "Date:                Fri, 01 Jul 2022   Prob (F-statistic):          1.44e-315\n",
      "Time:                        21:35:39   Log-Likelihood:                -10841.\n",
      "No. Observations:                1070   AIC:                         2.169e+04\n",
      "Df Residuals:                    1065   BIC:                         2.172e+04\n",
      "Df Model:                           4                                         \n",
      "Covariance Type:            nonrobust                                         \n",
      "==============================================================================\n",
      "                 coef    std err          t      P>|t|      [0.025      0.975]\n",
      "------------------------------------------------------------------------------\n",
      "const      -1991.2198    571.297     -3.485      0.001   -3112.216    -870.223\n",
      "age         1.188e+04    618.204     19.210      0.000    1.07e+04    1.31e+04\n",
      "bmi         1.131e+04   1138.805      9.928      0.000    9071.234    1.35e+04\n",
      "children    2017.7222    771.744      2.614      0.009     503.411    3532.033\n",
      "smoker_yes  2.375e+04    461.124     51.496      0.000    2.28e+04    2.47e+04\n",
      "==============================================================================\n",
      "Omnibus:                      240.524   Durbin-Watson:                   1.970\n",
      "Prob(Omnibus):                  0.000   Jarque-Bera (JB):              558.185\n",
      "Skew:                           1.216   Prob(JB):                    6.19e-122\n",
      "Kurtosis:                       5.571   Cond. No.                         7.99\n",
      "==============================================================================\n",
      "\n",
      "Notes:\n",
      "[1] Standard Errors assume that the covariance matrix of the errors is correctly specified.\n"
     ]
    }
   ],
   "source": [
    "# calling the OLS algorithm on the train features and target variable\n",
    "ols_model_2 = sm.OLS(train_target, train_features_scaled_new2)\n",
    "# fitting the model\n",
    "ols_res_2 = ols_model_2.fit()\n",
    "\n",
    "print(ols_res_2.summary())"
   ]
  },
  {
   "cell_type": "markdown",
   "id": "53a5f2ca",
   "metadata": {},
   "source": [
    "**Observations:**\n",
    "- All the VIF scores are lower than 5 indicating no multicolinearity.\n",
    "- All the p-value are less than 0.05 so we are good to go.\n",
    "- We can notice that the R-squared didn't change, which indicates that the feature we removed `sex_male`, `region_northwest`, ``regon_southwest`` and ``region_east`` were not adding any value to the model."
   ]
  },
  {
   "cell_type": "markdown",
   "id": "0c3e6ef4",
   "metadata": {},
   "source": [
    "### **Mean of residuals should be 0**"
   ]
  },
  {
   "cell_type": "code",
   "execution_count": 183,
   "id": "61940c4b",
   "metadata": {},
   "outputs": [
    {
     "data": {
      "text/plain": [
       "-3.2741809263825417e-12"
      ]
     },
     "execution_count": 183,
     "metadata": {},
     "output_type": "execute_result"
    }
   ],
   "source": [
    "residual = ols_res_2.resid\n",
    "residual.mean()"
   ]
  },
  {
   "cell_type": "markdown",
   "id": "d87bd9f8",
   "metadata": {},
   "source": [
    "**Observations:**\n",
    "- The residual value is so small that can be considered 0, so we are good to go."
   ]
  },
  {
   "cell_type": "markdown",
   "id": "59b202f8",
   "metadata": {},
   "source": [
    "### **Linearity of Variables**"
   ]
  },
  {
   "cell_type": "code",
   "execution_count": 184,
   "id": "36a94d57",
   "metadata": {},
   "outputs": [
    {
     "data": {
      "image/png": "[encoded data removed]",
      "text/plain": [
       "<Figure size 432x288 with 1 Axes>"
      ]
     },
     "metadata": {
      "needs_background": "light"
     },
     "output_type": "display_data"
    }
   ],
   "source": [
    "# predicted values\n",
    "fitted = ols_res_2.fittedvalues\n",
    "\n",
    "# sns.set_style(\"whitegrid\")\n",
    "sns.residplot(x = fitted, y = residual, color=\"lightblue\")\n",
    "plt.xlabel(\"Fitted Values\")\n",
    "plt.ylabel(\"Residual\")\n",
    "plt.title(\"Residual PLOT\")\n",
    "plt.show()"
   ]
  },
  {
   "cell_type": "code",
   "execution_count": 185,
   "id": "d67083de",
   "metadata": {},
   "outputs": [],
   "source": [
    "#Log transformation on the target variable\n",
    "train_target_log = np.log(train_target)"
   ]
  },
  {
   "cell_type": "code",
   "execution_count": 186,
   "id": "5bd01e02",
   "metadata": {},
   "outputs": [],
   "source": [
    "#Fitting new model with the transformed target variable\n",
    "ols_model_3 = sm.OLS(train_target_log, train_features_scaled_new2)\n",
    "ols_res_3 = ols_model_3.fit()"
   ]
  },
  {
   "cell_type": "code",
   "execution_count": 187,
   "id": "bb5947a8",
   "metadata": {},
   "outputs": [
    {
     "data": {
      "image/png": "[encoded data removed]",
      "text/plain": [
       "<Figure size 432x288 with 1 Axes>"
      ]
     },
     "metadata": {
      "needs_background": "light"
     },
     "output_type": "display_data"
    }
   ],
   "source": [
    "# predicted values\n",
    "fitted2 = ols_res_3.fittedvalues\n",
    "residual1 = ols_res_3.resid\n",
    "\n",
    "# sns.set_style(\"whitegrid\")\n",
    "sns.residplot(x = fitted2, y = residual1, color=\"lightblue\")\n",
    "plt.xlabel(\"Fitted Values\")\n",
    "plt.ylabel(\"Residual\")\n",
    "plt.title(\"Residual PLOT\")\n",
    "plt.show()"
   ]
  },
  {
   "cell_type": "markdown",
   "id": "3de1a106",
   "metadata": {},
   "source": [
    "### **Evaluation Metrics**"
   ]
  },
  {
   "cell_type": "markdown",
   "id": "4a538429",
   "metadata": {},
   "source": [
    "#### **R-Squared**"
   ]
  },
  {
   "cell_type": "markdown",
   "id": "004ab368",
   "metadata": {},
   "source": [
    "The R-squared metric gives us an indication that how good/bad our model is from a baseline model"
   ]
  },
  {
   "cell_type": "code",
   "execution_count": 188,
   "id": "805403d0",
   "metadata": {},
   "outputs": [
    {
     "name": "stdout",
     "output_type": "stream",
     "text": [
      "0.7565997559781719\n"
     ]
    }
   ],
   "source": [
    "print(ols_res_3.rsquared)"
   ]
  },
  {
   "cell_type": "markdown",
   "id": "9e9016a6",
   "metadata": {},
   "source": [
    "#### **Mean Squared Error**"
   ]
  },
  {
   "cell_type": "markdown",
   "id": "171cbcc7",
   "metadata": {},
   "source": [
    "This metric measures the average of the squares of the errors i.e. the average squared difference between the estimated values and the actual value."
   ]
  },
  {
   "cell_type": "code",
   "execution_count": 189,
   "id": "070da175",
   "metadata": {},
   "outputs": [
    {
     "name": "stdout",
     "output_type": "stream",
     "text": [
      "0.2042920830361437\n"
     ]
    }
   ],
   "source": [
    "print(ols_res_3.mse_resid)"
   ]
  },
  {
   "cell_type": "markdown",
   "id": "cb46a468",
   "metadata": {},
   "source": [
    "#### **Root Mean Squared Error**"
   ]
  },
  {
   "cell_type": "markdown",
   "id": "ef949f1d",
   "metadata": {},
   "source": [
    "This metric is same as the above but instead of square root of MSE to get RMSE"
   ]
  },
  {
   "cell_type": "code",
   "execution_count": 190,
   "id": "1756518e",
   "metadata": {},
   "outputs": [
    {
     "name": "stdout",
     "output_type": "stream",
     "text": [
      "0.45198681732562035\n"
     ]
    }
   ],
   "source": [
    "print(np.sqrt(ols_res_3.mse_resid))"
   ]
  },
  {
   "cell_type": "code",
   "execution_count": 191,
   "id": "052ca571",
   "metadata": {},
   "outputs": [
    {
     "name": "stdout",
     "output_type": "stream",
     "text": [
      "                            OLS Regression Results                            \n",
      "==============================================================================\n",
      "Dep. Variable:                charges   R-squared:                       0.757\n",
      "Model:                            OLS   Adj. R-squared:                  0.756\n",
      "Method:                 Least Squares   F-statistic:                     827.6\n",
      "Date:                Fri, 01 Jul 2022   Prob (F-statistic):               0.00\n",
      "Time:                        21:35:53   Log-Likelihood:                -666.07\n",
      "No. Observations:                1070   AIC:                             1342.\n",
      "Df Residuals:                    1065   BIC:                             1367.\n",
      "Df Model:                           4                                         \n",
      "Covariance Type:            nonrobust                                         \n",
      "==============================================================================\n",
      "                 coef    std err          t      P>|t|      [0.025      0.975]\n",
      "------------------------------------------------------------------------------\n",
      "const          7.8039      0.042    184.173      0.000       7.721       7.887\n",
      "age            1.5803      0.046     34.465      0.000       1.490       1.670\n",
      "bmi            0.3737      0.084      4.424      0.000       0.208       0.539\n",
      "children       0.4861      0.057      8.493      0.000       0.374       0.598\n",
      "smoker_yes     1.5429      0.034     45.112      0.000       1.476       1.610\n",
      "==============================================================================\n",
      "Omnibus:                      357.452   Durbin-Watson:                   1.999\n",
      "Prob(Omnibus):                  0.000   Jarque-Bera (JB):             1222.542\n",
      "Skew:                           1.619   Prob(JB):                    3.38e-266\n",
      "Kurtosis:                       7.115   Cond. No.                         7.99\n",
      "==============================================================================\n",
      "\n",
      "Notes:\n",
      "[1] Standard Errors assume that the covariance matrix of the errors is correctly specified.\n"
     ]
    }
   ],
   "source": [
    "print(ols_res_3.summary())"
   ]
  },
  {
   "cell_type": "markdown",
   "id": "1719bfa0",
   "metadata": {},
   "source": [
    "**Observations:**\n",
    "- Our model performance have improve a little, from `747` to `757` R-squared"
   ]
  },
  {
   "cell_type": "markdown",
   "id": "e7baf74e",
   "metadata": {},
   "source": [
    "### **Cross Validation**"
   ]
  },
  {
   "cell_type": "markdown",
   "id": "74edc5d7",
   "metadata": {},
   "source": [
    "Below we are checking the cross validation score to identify if the model that we have built is `underfitted`, `overfitted` or `just right` model."
   ]
  },
  {
   "cell_type": "code",
   "execution_count": 192,
   "id": "202cdf8b",
   "metadata": {},
   "outputs": [
    {
     "name": "stdout",
     "output_type": "stream",
     "text": [
      "RSquared: 0.751 (+/- 0.133)\n",
      "Mean Squared Error: 0.206 (+/- 0.124)\n"
     ]
    }
   ],
   "source": [
    "#Fitting linear model\n",
    "\n",
    "from sklearn.linear_model import LinearRegression\n",
    "from sklearn.model_selection import cross_val_score\n",
    "\n",
    "linearregression = LinearRegression()                                    \n",
    "\n",
    "cv_Score11 = cross_val_score(linearregression, train_features_scaled_new2, train_target_log, cv = 10)\n",
    "cv_Score12 = cross_val_score(linearregression, train_features_scaled_new2, train_target_log, cv = 10, \n",
    "                             scoring = 'neg_mean_squared_error')                                  \n",
    "\n",
    "\n",
    "print(\"RSquared: %0.3f (+/- %0.3f)\" % (cv_Score11.mean(), cv_Score11.std() * 2))\n",
    "print(\"Mean Squared Error: %0.3f (+/- %0.3f)\" % (-1*cv_Score12.mean(), cv_Score12.std() * 2))"
   ]
  },
  {
   "cell_type": "markdown",
   "id": "8783859a",
   "metadata": {},
   "source": [
    "**Observations:**\n",
    "- The R-Squared on the cross validation is `0.751` which is almost similar to the R-Squared on the training dataset which is `757`.\n",
    "- And the MSE on cross validation is `0.206` which is almost similar to the MSE on the training dataset which is `204`."
   ]
  },
  {
   "cell_type": "markdown",
   "id": "64b6675d",
   "metadata": {},
   "source": [
    "## **Predictions on the Test Dataset**"
   ]
  },
  {
   "cell_type": "code",
   "execution_count": 194,
   "id": "72479a2a",
   "metadata": {},
   "outputs": [
    {
     "data": {
      "text/html": [
       "<div>\n",
       "<style scoped>\n",
       "    .dataframe tbody tr th:only-of-type {\n",
       "        vertical-align: middle;\n",
       "    }\n",
       "\n",
       "    .dataframe tbody tr th {\n",
       "        vertical-align: top;\n",
       "    }\n",
       "\n",
       "    .dataframe thead th {\n",
       "        text-align: right;\n",
       "    }\n",
       "</style>\n",
       "<table border=\"1\" class=\"dataframe\">\n",
       "  <thead>\n",
       "    <tr style=\"text-align: right;\">\n",
       "      <th></th>\n",
       "      <th>const</th>\n",
       "      <th>age</th>\n",
       "      <th>bmi</th>\n",
       "      <th>children</th>\n",
       "      <th>smoker_yes</th>\n",
       "    </tr>\n",
       "  </thead>\n",
       "  <tbody>\n",
       "    <tr>\n",
       "      <th>559</th>\n",
       "      <td>1.0</td>\n",
       "      <td>0.021739</td>\n",
       "      <td>0.609510</td>\n",
       "      <td>0.0</td>\n",
       "      <td>0.0</td>\n",
       "    </tr>\n",
       "    <tr>\n",
       "      <th>1087</th>\n",
       "      <td>1.0</td>\n",
       "      <td>0.847826</td>\n",
       "      <td>0.479564</td>\n",
       "      <td>0.0</td>\n",
       "      <td>0.0</td>\n",
       "    </tr>\n",
       "    <tr>\n",
       "      <th>1020</th>\n",
       "      <td>1.0</td>\n",
       "      <td>0.717391</td>\n",
       "      <td>0.657385</td>\n",
       "      <td>0.0</td>\n",
       "      <td>0.0</td>\n",
       "    </tr>\n",
       "    <tr>\n",
       "      <th>460</th>\n",
       "      <td>1.0</td>\n",
       "      <td>0.673913</td>\n",
       "      <td>0.645335</td>\n",
       "      <td>0.6</td>\n",
       "      <td>0.0</td>\n",
       "    </tr>\n",
       "    <tr>\n",
       "      <th>802</th>\n",
       "      <td>1.0</td>\n",
       "      <td>0.065217</td>\n",
       "      <td>0.178635</td>\n",
       "      <td>0.2</td>\n",
       "      <td>0.0</td>\n",
       "    </tr>\n",
       "  </tbody>\n",
       "</table>\n",
       "</div>"
      ],
      "text/plain": [
       "      const       age       bmi  children  smoker_yes\n",
       "559     1.0  0.021739  0.609510       0.0         0.0\n",
       "1087    1.0  0.847826  0.479564       0.0         0.0\n",
       "1020    1.0  0.717391  0.657385       0.0         0.0\n",
       "460     1.0  0.673913  0.645335       0.6         0.0\n",
       "802     1.0  0.065217  0.178635       0.2         0.0"
      ]
     },
     "execution_count": 194,
     "metadata": {},
     "output_type": "execute_result"
    }
   ],
   "source": [
    "test_features_scaled = test_features_scaled.drop(columns = ['sex_male','region_northwest', 'region_southwest', \n",
    "                                                           'region_southeast'])\n",
    "test_features_scaled = sm.add_constant(test_features_scaled)\n",
    "test_features_scaled.head()"
   ]
  },
  {
   "cell_type": "code",
   "execution_count": 195,
   "id": "e12fcbfa",
   "metadata": {},
   "outputs": [
    {
     "data": {
      "text/plain": [
       "559      3184.356845\n",
       "1087    11191.552037\n",
       "1020     9732.565277\n",
       "460     12108.971925\n",
       "802      3200.113570\n",
       "            ...     \n",
       "682     35869.401243\n",
       "629     36657.587925\n",
       "893     49353.828449\n",
       "807      3225.110545\n",
       "1165     4920.782121\n",
       "Length: 268, dtype: float64"
      ]
     },
     "execution_count": 195,
     "metadata": {},
     "output_type": "execute_result"
    }
   ],
   "source": [
    "test_predictions = ols_res_3.predict(test_features_scaled)\n",
    "\n",
    "# we are converting the log scale predictions to its original scale\n",
    "test_predictions_inverse_transformed = np.exp(test_predictions)\n",
    "test_predictions_inverse_transformed"
   ]
  },
  {
   "cell_type": "markdown",
   "id": "43aa8f75",
   "metadata": {},
   "source": [
    "Point to remember: The output of this model is in log scale. So after prediction we need to transform this value in log back to its original scale by doing inverse of log transformation i.e. taking exponentiation</font>"
   ]
  },
  {
   "cell_type": "code",
   "execution_count": 196,
   "id": "6720b60c",
   "metadata": {},
   "outputs": [
    {
     "data": {
      "image/png": "[encoded data removed]",
      "text/plain": [
       "<Figure size 1728x864 with 2 Axes>"
      ]
     },
     "metadata": {
      "needs_background": "light"
     },
     "output_type": "display_data"
    }
   ],
   "source": [
    "fig, ax = plt.subplots(1, 2, figsize=(24, 12))\n",
    "\n",
    "sns.histplot(test_predictions, ax=ax[0]);\n",
    "sns.histplot(test_predictions_inverse_transformed, ax=ax[1]);"
   ]
  },
  {
   "cell_type": "markdown",
   "id": "d8124809",
   "metadata": {},
   "source": [
    "## **Conclusions**"
   ]
  },
  {
   "cell_type": "markdown",
   "id": "a6c20c5e",
   "metadata": {},
   "source": [
    "- We performed EDA - univariate and bivariate analysis on all the variables in the dataset\n",
    "- We started the model building the process with all the features\n",
    "- We analyzed the model summary report\n",
    "- Then we evaluated the model using different evaluation metrics"
   ]
  },
  {
   "cell_type": "markdown",
   "id": "b3011aa6",
   "metadata": {},
   "source": [
    "As we noticed not all the features given to us helped the our model, we started with 7 different features and ended up with 5 main features that actually influenced our predictions.\n",
    "Note: it is wise to deal with large amount of data when training our models, as the more data we use to train the more precise,accurate and complete our model will be, if we try our current model without the test data you will notice that the features we need to drop are less."
   ]
  },
  {
   "cell_type": "code",
   "execution_count": null,
   "id": "d1b268b1",
   "metadata": {},
   "outputs": [],
   "source": []
  },
  {
   "cell_type": "code",
   "execution_count": null,
   "id": "c21d9028",
   "metadata": {},
   "outputs": [],
   "source": []
  }
 ],
 "metadata": {
  "kernelspec": {
   "display_name": "Python 3 (ipykernel)",
   "language": "python",
   "name": "python3"
  },
  "language_info": {
   "codemirror_mode": {
    "name": "ipython",
    "version": 3
   },
   "file_extension": ".py",
   "mimetype": "text/x-python",
   "name": "python",
   "nbconvert_exporter": "python",
   "pygments_lexer": "ipython3",
   "version": "3.9.7"
  }
 },
 "nbformat": 4,
 "nbformat_minor": 5
}
