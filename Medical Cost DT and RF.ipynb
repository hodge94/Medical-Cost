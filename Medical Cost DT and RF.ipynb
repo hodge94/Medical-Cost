{
 "cells": [
  {
   "cell_type": "markdown",
   "id": "34e3a7f4",
   "metadata": {},
   "source": [
    "## **Context**"
   ]
  },
  {
   "cell_type": "markdown",
   "id": "3a30168d",
   "metadata": {},
   "source": [
    "We are given a small medical dataset with some categorical and numerical variables to determinate the possible charges a beneficiary could have depending his/her condition.\n",
    "We need to create a machine learning model using linear regression techniques to predict the numerical value (I will upload another program soon with random forest regression to we can see the difference)\n",
    "\n",
    "**dataset link:** https://www.kaggle.com/datasets/mirichoi0218/insurance?resource=download"
   ]
  },
  {
   "cell_type": "markdown",
   "id": "7976c41a",
   "metadata": {},
   "source": [
    "## **Data Description**"
   ]
  },
  {
   "cell_type": "markdown",
   "id": "bcfa2db3",
   "metadata": {},
   "source": [
    "- **age:** age of primary beneficiary\n",
    "- **sex:** insurance contractor gender, female, male\n",
    "- **bmi:** Body mass index.\n",
    "- **children:** Number of children covered by health insurance / Number of dependents\n",
    "- **smoker:** Smoking\n",
    "- **region:** the beneficiary's residential area in the US, northeast, southeast, southwest, northwest.\n",
    "- **charges:** Individual medical costs billed by health insurance"
   ]
  },
  {
   "cell_type": "markdown",
   "id": "87ba394e",
   "metadata": {},
   "source": [
    "### Importing general libraries"
   ]
  },
  {
   "cell_type": "code",
   "execution_count": 1,
   "id": "bf687afb",
   "metadata": {},
   "outputs": [],
   "source": [
    "# data manipulation libraries\n",
    "import pandas as pd\n",
    "import numpy as np\n",
    "\n",
    "# data visualization libraries\n",
    "import matplotlib.pyplot as plt\n",
    "import seaborn as sns\n",
    "\n",
    "# to ignore warnings\n",
    "import warnings\n",
    "warnings.filterwarnings('ignore')"
   ]
  },
  {
   "cell_type": "markdown",
   "id": "97ec711c",
   "metadata": {},
   "source": [
    "**IMPORTING DATASET**"
   ]
  },
  {
   "cell_type": "code",
   "execution_count": 2,
   "id": "59a85b16",
   "metadata": {},
   "outputs": [],
   "source": [
    "df = pd.read_csv('insurance.csv')"
   ]
  },
  {
   "cell_type": "code",
   "execution_count": 3,
   "id": "0fde4bb2",
   "metadata": {},
   "outputs": [
    {
     "data": {
      "text/html": [
       "<div>\n",
       "<style scoped>\n",
       "    .dataframe tbody tr th:only-of-type {\n",
       "        vertical-align: middle;\n",
       "    }\n",
       "\n",
       "    .dataframe tbody tr th {\n",
       "        vertical-align: top;\n",
       "    }\n",
       "\n",
       "    .dataframe thead th {\n",
       "        text-align: right;\n",
       "    }\n",
       "</style>\n",
       "<table border=\"1\" class=\"dataframe\">\n",
       "  <thead>\n",
       "    <tr style=\"text-align: right;\">\n",
       "      <th></th>\n",
       "      <th>age</th>\n",
       "      <th>sex</th>\n",
       "      <th>bmi</th>\n",
       "      <th>children</th>\n",
       "      <th>smoker</th>\n",
       "      <th>region</th>\n",
       "      <th>charges</th>\n",
       "    </tr>\n",
       "  </thead>\n",
       "  <tbody>\n",
       "    <tr>\n",
       "      <th>0</th>\n",
       "      <td>19</td>\n",
       "      <td>female</td>\n",
       "      <td>27.900</td>\n",
       "      <td>0</td>\n",
       "      <td>yes</td>\n",
       "      <td>southwest</td>\n",
       "      <td>16884.92400</td>\n",
       "    </tr>\n",
       "    <tr>\n",
       "      <th>1</th>\n",
       "      <td>18</td>\n",
       "      <td>male</td>\n",
       "      <td>33.770</td>\n",
       "      <td>1</td>\n",
       "      <td>no</td>\n",
       "      <td>southeast</td>\n",
       "      <td>1725.55230</td>\n",
       "    </tr>\n",
       "    <tr>\n",
       "      <th>2</th>\n",
       "      <td>28</td>\n",
       "      <td>male</td>\n",
       "      <td>33.000</td>\n",
       "      <td>3</td>\n",
       "      <td>no</td>\n",
       "      <td>southeast</td>\n",
       "      <td>4449.46200</td>\n",
       "    </tr>\n",
       "    <tr>\n",
       "      <th>3</th>\n",
       "      <td>33</td>\n",
       "      <td>male</td>\n",
       "      <td>22.705</td>\n",
       "      <td>0</td>\n",
       "      <td>no</td>\n",
       "      <td>northwest</td>\n",
       "      <td>21984.47061</td>\n",
       "    </tr>\n",
       "    <tr>\n",
       "      <th>4</th>\n",
       "      <td>32</td>\n",
       "      <td>male</td>\n",
       "      <td>28.880</td>\n",
       "      <td>0</td>\n",
       "      <td>no</td>\n",
       "      <td>northwest</td>\n",
       "      <td>3866.85520</td>\n",
       "    </tr>\n",
       "  </tbody>\n",
       "</table>\n",
       "</div>"
      ],
      "text/plain": [
       "   age     sex     bmi  children smoker     region      charges\n",
       "0   19  female  27.900         0    yes  southwest  16884.92400\n",
       "1   18    male  33.770         1     no  southeast   1725.55230\n",
       "2   28    male  33.000         3     no  southeast   4449.46200\n",
       "3   33    male  22.705         0     no  northwest  21984.47061\n",
       "4   32    male  28.880         0     no  northwest   3866.85520"
      ]
     },
     "execution_count": 3,
     "metadata": {},
     "output_type": "execute_result"
    }
   ],
   "source": [
    "df.head()"
   ]
  },
  {
   "cell_type": "markdown",
   "id": "5de730c1",
   "metadata": {},
   "source": [
    "**CHECKING FOR COLUMNS TYPES AND MISSING VALUES**"
   ]
  },
  {
   "cell_type": "code",
   "execution_count": 4,
   "id": "027eaecb",
   "metadata": {},
   "outputs": [
    {
     "name": "stdout",
     "output_type": "stream",
     "text": [
      "<class 'pandas.core.frame.DataFrame'>\n",
      "RangeIndex: 1338 entries, 0 to 1337\n",
      "Data columns (total 7 columns):\n",
      " #   Column    Non-Null Count  Dtype  \n",
      "---  ------    --------------  -----  \n",
      " 0   age       1338 non-null   int64  \n",
      " 1   sex       1338 non-null   object \n",
      " 2   bmi       1338 non-null   float64\n",
      " 3   children  1338 non-null   int64  \n",
      " 4   smoker    1338 non-null   object \n",
      " 5   region    1338 non-null   object \n",
      " 6   charges   1338 non-null   float64\n",
      "dtypes: float64(2), int64(2), object(3)\n",
      "memory usage: 73.3+ KB\n"
     ]
    }
   ],
   "source": [
    "df.info()"
   ]
  },
  {
   "cell_type": "markdown",
   "id": "a19f2d09",
   "metadata": {},
   "source": [
    "**Observations:**\n",
    "- There are 1,338 observations and 7 different features (columns)\n",
    "- There are not missing values in our dataset\n",
    "-  Each of the columns have it's corresponding type\n",
    "\n",
    "As there are not missing values and the columns have the correct type, we can proceed to EDA and visualization to optain other insights of our data."
   ]
  },
  {
   "cell_type": "markdown",
   "id": "e4f2434b",
   "metadata": {},
   "source": [
    "### **EDA and VISUALIZATION**"
   ]
  },
  {
   "cell_type": "code",
   "execution_count": 5,
   "id": "19456c5d",
   "metadata": {},
   "outputs": [
    {
     "data": {
      "text/html": [
       "<div>\n",
       "<style scoped>\n",
       "    .dataframe tbody tr th:only-of-type {\n",
       "        vertical-align: middle;\n",
       "    }\n",
       "\n",
       "    .dataframe tbody tr th {\n",
       "        vertical-align: top;\n",
       "    }\n",
       "\n",
       "    .dataframe thead th {\n",
       "        text-align: right;\n",
       "    }\n",
       "</style>\n",
       "<table border=\"1\" class=\"dataframe\">\n",
       "  <thead>\n",
       "    <tr style=\"text-align: right;\">\n",
       "      <th></th>\n",
       "      <th>count</th>\n",
       "      <th>mean</th>\n",
       "      <th>std</th>\n",
       "      <th>min</th>\n",
       "      <th>25%</th>\n",
       "      <th>50%</th>\n",
       "      <th>75%</th>\n",
       "      <th>max</th>\n",
       "    </tr>\n",
       "  </thead>\n",
       "  <tbody>\n",
       "    <tr>\n",
       "      <th>age</th>\n",
       "      <td>1338.0</td>\n",
       "      <td>39.207025</td>\n",
       "      <td>14.049960</td>\n",
       "      <td>18.0000</td>\n",
       "      <td>27.00000</td>\n",
       "      <td>39.000</td>\n",
       "      <td>51.000000</td>\n",
       "      <td>64.00000</td>\n",
       "    </tr>\n",
       "    <tr>\n",
       "      <th>bmi</th>\n",
       "      <td>1338.0</td>\n",
       "      <td>30.663397</td>\n",
       "      <td>6.098187</td>\n",
       "      <td>15.9600</td>\n",
       "      <td>26.29625</td>\n",
       "      <td>30.400</td>\n",
       "      <td>34.693750</td>\n",
       "      <td>53.13000</td>\n",
       "    </tr>\n",
       "    <tr>\n",
       "      <th>children</th>\n",
       "      <td>1338.0</td>\n",
       "      <td>1.094918</td>\n",
       "      <td>1.205493</td>\n",
       "      <td>0.0000</td>\n",
       "      <td>0.00000</td>\n",
       "      <td>1.000</td>\n",
       "      <td>2.000000</td>\n",
       "      <td>5.00000</td>\n",
       "    </tr>\n",
       "    <tr>\n",
       "      <th>charges</th>\n",
       "      <td>1338.0</td>\n",
       "      <td>13270.422265</td>\n",
       "      <td>12110.011237</td>\n",
       "      <td>1121.8739</td>\n",
       "      <td>4740.28715</td>\n",
       "      <td>9382.033</td>\n",
       "      <td>16639.912515</td>\n",
       "      <td>63770.42801</td>\n",
       "    </tr>\n",
       "  </tbody>\n",
       "</table>\n",
       "</div>"
      ],
      "text/plain": [
       "           count          mean           std        min         25%       50%  \\\n",
       "age       1338.0     39.207025     14.049960    18.0000    27.00000    39.000   \n",
       "bmi       1338.0     30.663397      6.098187    15.9600    26.29625    30.400   \n",
       "children  1338.0      1.094918      1.205493     0.0000     0.00000     1.000   \n",
       "charges   1338.0  13270.422265  12110.011237  1121.8739  4740.28715  9382.033   \n",
       "\n",
       "                   75%          max  \n",
       "age          51.000000     64.00000  \n",
       "bmi          34.693750     53.13000  \n",
       "children      2.000000      5.00000  \n",
       "charges   16639.912515  63770.42801  "
      ]
     },
     "execution_count": 5,
     "metadata": {},
     "output_type": "execute_result"
    }
   ],
   "source": [
    "# Inferential statistic based on numeric columns values\n",
    "df.describe().T"
   ]
  },
  {
   "cell_type": "markdown",
   "id": "4c97e5d7",
   "metadata": {},
   "source": [
    "**Observations:**\n",
    "- The average `age` is 39 years old, and the oldest client registered is 64 years old.\n",
    "- Most of the clients only have one ``child or dependent`` and the case with more children/dependent is 5.\n",
    "- The average ``BMI`` is above the normal average `18.5 - 24.9`. "
   ]
  },
  {
   "cell_type": "code",
   "execution_count": 6,
   "id": "99feb2fb",
   "metadata": {},
   "outputs": [
    {
     "data": {
      "text/plain": [
       "male      50.523169\n",
       "female    49.476831\n",
       "Name: sex, dtype: float64"
      ]
     },
     "execution_count": 6,
     "metadata": {},
     "output_type": "execute_result"
    }
   ],
   "source": [
    "# percentage of male and female clients\n",
    "df['sex'].value_counts(normalize=True)*100"
   ]
  },
  {
   "cell_type": "code",
   "execution_count": 7,
   "id": "2c965540",
   "metadata": {},
   "outputs": [
    {
     "data": {
      "image/png": "[encoded data removed]",
      "text/plain": [
       "<Figure size 576x576 with 1 Axes>"
      ]
     },
     "metadata": {
      "needs_background": "light"
     },
     "output_type": "display_data"
    }
   ],
   "source": [
    "plt.figure(figsize = (8,8))\n",
    "sns.countplot(x = 'sex', data = df)\n",
    "plt.show()"
   ]
  },
  {
   "cell_type": "markdown",
   "id": "f81c73a6",
   "metadata": {},
   "source": [
    "**Observations:**\n",
    "- The distribution of both female and male clients is almost symetric with a little more males than females."
   ]
  },
  {
   "cell_type": "code",
   "execution_count": 8,
   "id": "edbabad4",
   "metadata": {},
   "outputs": [
    {
     "data": {
      "text/plain": [
       "no     79.521674\n",
       "yes    20.478326\n",
       "Name: smoker, dtype: float64"
      ]
     },
     "execution_count": 8,
     "metadata": {},
     "output_type": "execute_result"
    }
   ],
   "source": [
    "# Smoker percentage between the clients\n",
    "df['smoker'].value_counts(normalize=True)*100"
   ]
  },
  {
   "cell_type": "code",
   "execution_count": 9,
   "id": "2632b516",
   "metadata": {},
   "outputs": [
    {
     "data": {
      "image/png": "[encoded data removed]",
      "text/plain": [
       "<Figure size 576x576 with 1 Axes>"
      ]
     },
     "metadata": {
      "needs_background": "light"
     },
     "output_type": "display_data"
    }
   ],
   "source": [
    "plt.figure(figsize = (8,8))\n",
    "sns.countplot(x = 'smoker', data = df, hue = 'sex')\n",
    "plt.show()"
   ]
  },
  {
   "cell_type": "markdown",
   "id": "948c617f",
   "metadata": {},
   "source": [
    "**Observations:**\n",
    "- Most of the clients are **non-smokers** with a greater number of female fitting into this category.\n",
    "- The clients that do smoke are mostly men."
   ]
  },
  {
   "cell_type": "code",
   "execution_count": 10,
   "id": "4b9b353d",
   "metadata": {},
   "outputs": [
    {
     "data": {
      "image/png": "[encoded data removed]",
      "text/plain": [
       "<Figure size 576x576 with 1 Axes>"
      ]
     },
     "metadata": {
      "needs_background": "light"
     },
     "output_type": "display_data"
    }
   ],
   "source": [
    "# number of clients per region\n",
    "plt.figure(figsize = (8,8))\n",
    "sns.countplot(x = 'region', data = df, hue = 'sex')\n",
    "plt.show()"
   ]
  },
  {
   "cell_type": "markdown",
   "id": "c962b966",
   "metadata": {},
   "source": [
    "**Observations:**\n",
    "- The distribution of the clients by `region` is good, as we can notice on the graph above.\n",
    "- The region with more clients is the ``southeast`` region with more male than female.\n",
    "- The only ``region`` where female are predominant is the ``northwest`` region."
   ]
  },
  {
   "cell_type": "code",
   "execution_count": 11,
   "id": "88f67186",
   "metadata": {},
   "outputs": [
    {
     "data": {
      "image/png": "[encoded data removed]",
      "text/plain": [
       "<Figure size 1440x720 with 1 Axes>"
      ]
     },
     "metadata": {
      "needs_background": "light"
     },
     "output_type": "display_data"
    }
   ],
   "source": [
    "# smokers depending on the age of the client\n",
    "plt.figure(figsize = (20,10))\n",
    "sns.countplot(x = 'age', data = df, hue = 'smoker')\n",
    "plt.show()"
   ]
  },
  {
   "cell_type": "markdown",
   "id": "e5c95ab9",
   "metadata": {},
   "source": [
    "**Observations:**\n",
    "- There is not a define pattern for smoker and age but we can see that the younger people has a higher number of no smoker but are also the highest number of smokers."
   ]
  },
  {
   "cell_type": "code",
   "execution_count": 12,
   "id": "1d150854",
   "metadata": {},
   "outputs": [
    {
     "data": {
      "image/png": "[encoded data removed]",
      "text/plain": [
       "<Figure size 576x576 with 1 Axes>"
      ]
     },
     "metadata": {
      "needs_background": "light"
     },
     "output_type": "display_data"
    }
   ],
   "source": [
    "# smokers by region\n",
    "plt.figure(figsize = (8,8))\n",
    "sns.countplot(x = 'region', data = df, hue = 'smoker')\n",
    "plt.show()"
   ]
  },
  {
   "cell_type": "markdown",
   "id": "30b691e6",
   "metadata": {},
   "source": [
    "**Observations:**\n",
    "- The region with the highest number of smokers is the ``southest`` region which is also the region with the greater concentration of clients."
   ]
  },
  {
   "cell_type": "code",
   "execution_count": 13,
   "id": "c9a97da4",
   "metadata": {},
   "outputs": [
    {
     "data": {
      "image/png": "[encoded data removed]",
      "text/plain": [
       "<Figure size 576x576 with 1 Axes>"
      ]
     },
     "metadata": {
      "needs_background": "light"
     },
     "output_type": "display_data"
    }
   ],
   "source": [
    "# number of children or dependents by region\n",
    "plt.figure(figsize = (8,8))\n",
    "sns.barplot(x = 'region', y = 'children', data = df)\n",
    "plt.show()"
   ]
  },
  {
   "cell_type": "markdown",
   "id": "abfc7ac5",
   "metadata": {},
   "source": [
    "**Observations:**\n",
    "- The ``regions`` with the greaters number of children are the ``southwest`` and ``northwest`` regions."
   ]
  },
  {
   "cell_type": "code",
   "execution_count": 14,
   "id": "05affa0d",
   "metadata": {},
   "outputs": [
    {
     "data": {
      "image/png": "[encoded data removed]",
      "text/plain": [
       "<Figure size 576x720 with 1 Axes>"
      ]
     },
     "metadata": {
      "needs_background": "light"
     },
     "output_type": "display_data"
    }
   ],
   "source": [
    "# relation of the age with teh bmi of a person\n",
    "plt.figure(figsize = (8,10))\n",
    "sns.lineplot(x = 'age', y = 'bmi', data = df)\n",
    "plt.show()"
   ]
  },
  {
   "cell_type": "markdown",
   "id": "7a764c76",
   "metadata": {},
   "source": [
    "**Observations:**\n",
    "- The relation between the age and the bmi is not constant, but we can notice a trend of the ``bmi`` increase with the increase of the ``age``."
   ]
  },
  {
   "cell_type": "code",
   "execution_count": 15,
   "id": "91d2bdc1",
   "metadata": {},
   "outputs": [
    {
     "data": {
      "image/png": "[encoded data removed]",
      "text/plain": [
       "<Figure size 576x576 with 1 Axes>"
      ]
     },
     "metadata": {
      "needs_background": "light"
     },
     "output_type": "display_data"
    }
   ],
   "source": [
    "# checking the distribution of the target variable\n",
    "plt.figure(figsize = (8,8))\n",
    "sns.histplot(data = df, x = 'charges', kde = True)\n",
    "plt.show()"
   ]
  },
  {
   "cell_type": "markdown",
   "id": "5852e0f7",
   "metadata": {},
   "source": [
    "**Observations:**\n",
    "- The target variable is righ-skewed, which means most of the values are low."
   ]
  },
  {
   "cell_type": "markdown",
   "id": "cba503ac",
   "metadata": {},
   "source": [
    "**Observations:**\n",
    "- After we applied log-transformation we can see that the dependant variable/target variable now resemble more a normal distribution plot."
   ]
  },
  {
   "cell_type": "code",
   "execution_count": 16,
   "id": "537166e8",
   "metadata": {},
   "outputs": [
    {
     "data": {
      "image/png": "[encoded data removed]",
      "text/plain": [
       "<Figure size 720x720 with 2 Axes>"
      ]
     },
     "metadata": {
      "needs_background": "light"
     },
     "output_type": "display_data"
    }
   ],
   "source": [
    "plt.figure(figsize = (10,10))\n",
    "sns.heatmap(df.corr(), annot = True, fmt = '.2f' )\n",
    "plt.show()"
   ]
  },
  {
   "cell_type": "markdown",
   "id": "ae55b579",
   "metadata": {},
   "source": [
    "**Observations**\n",
    "- Between the numerical variables there are not high correlation with the target variable ``charges``\n",
    "- The ``age`` have a 30% positive correlation with the ``charges``.\n",
    "- The ``bmi`` have a 20% positive correlation with the ``charges``."
   ]
  },
  {
   "cell_type": "markdown",
   "id": "39282287",
   "metadata": {},
   "source": [
    "## **Preparing data for modelig**"
   ]
  },
  {
   "cell_type": "markdown",
   "id": "b149d2f5",
   "metadata": {},
   "source": [
    "**IMPORTING LIBRARIES FOR MODELING**"
   ]
  },
  {
   "cell_type": "code",
   "execution_count": 17,
   "id": "b62721c3",
   "metadata": {},
   "outputs": [],
   "source": [
    "# library for linear visualization\n",
    "from statsmodels.graphics.gofplots import ProbPlot\n",
    "\n",
    "# importing decision tree and random forest libraries\n",
    "from sklearn.ensemble import RandomForestRegressor\n",
    "from sklearn.tree import DecisionTreeRegressor\n",
    "\n",
    "# importing library for splitting the data\n",
    "from sklearn.model_selection import train_test_split\n",
    "\n",
    "# importing library for data preprocessing\n",
    "from sklearn.preprocessing import MinMaxScaler"
   ]
  },
  {
   "cell_type": "code",
   "execution_count": 18,
   "id": "6be5b9c1",
   "metadata": {},
   "outputs": [],
   "source": [
    "# independant variable\n",
    "X = df.drop(columns = 'charges')\n",
    "\n",
    "# dependant variable/target\n",
    "Y = df['charges']"
   ]
  },
  {
   "cell_type": "code",
   "execution_count": 19,
   "id": "92d39d01",
   "metadata": {},
   "outputs": [
    {
     "data": {
      "text/html": [
       "<div>\n",
       "<style scoped>\n",
       "    .dataframe tbody tr th:only-of-type {\n",
       "        vertical-align: middle;\n",
       "    }\n",
       "\n",
       "    .dataframe tbody tr th {\n",
       "        vertical-align: top;\n",
       "    }\n",
       "\n",
       "    .dataframe thead th {\n",
       "        text-align: right;\n",
       "    }\n",
       "</style>\n",
       "<table border=\"1\" class=\"dataframe\">\n",
       "  <thead>\n",
       "    <tr style=\"text-align: right;\">\n",
       "      <th></th>\n",
       "      <th>age</th>\n",
       "      <th>bmi</th>\n",
       "      <th>children</th>\n",
       "      <th>sex_male</th>\n",
       "      <th>smoker_yes</th>\n",
       "      <th>region_northwest</th>\n",
       "      <th>region_southeast</th>\n",
       "      <th>region_southwest</th>\n",
       "    </tr>\n",
       "  </thead>\n",
       "  <tbody>\n",
       "    <tr>\n",
       "      <th>0</th>\n",
       "      <td>19</td>\n",
       "      <td>27.900</td>\n",
       "      <td>0</td>\n",
       "      <td>0</td>\n",
       "      <td>1</td>\n",
       "      <td>0</td>\n",
       "      <td>0</td>\n",
       "      <td>1</td>\n",
       "    </tr>\n",
       "    <tr>\n",
       "      <th>1</th>\n",
       "      <td>18</td>\n",
       "      <td>33.770</td>\n",
       "      <td>1</td>\n",
       "      <td>1</td>\n",
       "      <td>0</td>\n",
       "      <td>0</td>\n",
       "      <td>1</td>\n",
       "      <td>0</td>\n",
       "    </tr>\n",
       "    <tr>\n",
       "      <th>2</th>\n",
       "      <td>28</td>\n",
       "      <td>33.000</td>\n",
       "      <td>3</td>\n",
       "      <td>1</td>\n",
       "      <td>0</td>\n",
       "      <td>0</td>\n",
       "      <td>1</td>\n",
       "      <td>0</td>\n",
       "    </tr>\n",
       "    <tr>\n",
       "      <th>3</th>\n",
       "      <td>33</td>\n",
       "      <td>22.705</td>\n",
       "      <td>0</td>\n",
       "      <td>1</td>\n",
       "      <td>0</td>\n",
       "      <td>1</td>\n",
       "      <td>0</td>\n",
       "      <td>0</td>\n",
       "    </tr>\n",
       "    <tr>\n",
       "      <th>4</th>\n",
       "      <td>32</td>\n",
       "      <td>28.880</td>\n",
       "      <td>0</td>\n",
       "      <td>1</td>\n",
       "      <td>0</td>\n",
       "      <td>1</td>\n",
       "      <td>0</td>\n",
       "      <td>0</td>\n",
       "    </tr>\n",
       "  </tbody>\n",
       "</table>\n",
       "</div>"
      ],
      "text/plain": [
       "   age     bmi  children  sex_male  smoker_yes  region_northwest  \\\n",
       "0   19  27.900         0         0           1                 0   \n",
       "1   18  33.770         1         1           0                 0   \n",
       "2   28  33.000         3         1           0                 0   \n",
       "3   33  22.705         0         1           0                 1   \n",
       "4   32  28.880         0         1           0                 1   \n",
       "\n",
       "   region_southeast  region_southwest  \n",
       "0                 0                 1  \n",
       "1                 1                 0  \n",
       "2                 1                 0  \n",
       "3                 0                 0  \n",
       "4                 0                 0  "
      ]
     },
     "execution_count": 19,
     "metadata": {},
     "output_type": "execute_result"
    }
   ],
   "source": [
    "# creating dummy variables from the train_feature\n",
    "X = pd.get_dummies(X, drop_first = True)\n",
    "X.head()"
   ]
  },
  {
   "cell_type": "markdown",
   "id": "01f38ff5",
   "metadata": {},
   "source": [
    "**SPLITTING THE DATA BETWEEN TRIAN AND TEST DATA**"
   ]
  },
  {
   "cell_type": "code",
   "execution_count": 20,
   "id": "4473bb57",
   "metadata": {},
   "outputs": [],
   "source": [
    "X_train, X_test, y_train, y_test = train_test_split(X, Y, test_size = 0.20,random_state = 1)"
   ]
  },
  {
   "cell_type": "markdown",
   "id": "64d24384",
   "metadata": {},
   "source": [
    "## BUILDING THE MODEL"
   ]
  },
  {
   "cell_type": "markdown",
   "id": "7900c8bd",
   "metadata": {},
   "source": [
    "### **MODEL 1 DECISION TREE**"
   ]
  },
  {
   "cell_type": "code",
   "execution_count": 21,
   "id": "ad18092a",
   "metadata": {},
   "outputs": [
    {
     "data": {
      "text/plain": [
       "DecisionTreeRegressor()"
      ]
     },
     "execution_count": 21,
     "metadata": {},
     "output_type": "execute_result"
    }
   ],
   "source": [
    "regressor  = DecisionTreeRegressor()\n",
    "\n",
    "# training our model with the train data\n",
    "regressor.fit(X_train, y_train)"
   ]
  },
  {
   "cell_type": "markdown",
   "id": "2f553f62",
   "metadata": {},
   "source": [
    "**PREDICTING THE TEST DATA**"
   ]
  },
  {
   "cell_type": "code",
   "execution_count": 22,
   "id": "e3cb28a5",
   "metadata": {},
   "outputs": [],
   "source": [
    "# predicting test data\n",
    "pred1 = regressor.predict(X_test)"
   ]
  },
  {
   "cell_type": "code",
   "execution_count": 23,
   "id": "0d10872e",
   "metadata": {},
   "outputs": [],
   "source": [
    "# creating data frame to compare predicted and actual values\n",
    "df_first_model = pd.DataFrame({'Actual value': y_test, 'predicted value': pred1})"
   ]
  },
  {
   "cell_type": "code",
   "execution_count": 24,
   "id": "5d7add1a",
   "metadata": {},
   "outputs": [
    {
     "data": {
      "text/html": [
       "<div>\n",
       "<style scoped>\n",
       "    .dataframe tbody tr th:only-of-type {\n",
       "        vertical-align: middle;\n",
       "    }\n",
       "\n",
       "    .dataframe tbody tr th {\n",
       "        vertical-align: top;\n",
       "    }\n",
       "\n",
       "    .dataframe thead th {\n",
       "        text-align: right;\n",
       "    }\n",
       "</style>\n",
       "<table border=\"1\" class=\"dataframe\">\n",
       "  <thead>\n",
       "    <tr style=\"text-align: right;\">\n",
       "      <th></th>\n",
       "      <th>Actual value</th>\n",
       "      <th>predicted value</th>\n",
       "    </tr>\n",
       "  </thead>\n",
       "  <tbody>\n",
       "    <tr>\n",
       "      <th>559</th>\n",
       "      <td>1646.42970</td>\n",
       "      <td>1263.24900</td>\n",
       "    </tr>\n",
       "    <tr>\n",
       "      <th>1087</th>\n",
       "      <td>11353.22760</td>\n",
       "      <td>11842.62375</td>\n",
       "    </tr>\n",
       "    <tr>\n",
       "      <th>1020</th>\n",
       "      <td>8798.59300</td>\n",
       "      <td>8457.81800</td>\n",
       "    </tr>\n",
       "    <tr>\n",
       "      <th>460</th>\n",
       "      <td>10381.47870</td>\n",
       "      <td>10977.20630</td>\n",
       "    </tr>\n",
       "    <tr>\n",
       "      <th>802</th>\n",
       "      <td>2103.08000</td>\n",
       "      <td>1964.78000</td>\n",
       "    </tr>\n",
       "    <tr>\n",
       "      <th>...</th>\n",
       "      <td>...</td>\n",
       "      <td>...</td>\n",
       "    </tr>\n",
       "    <tr>\n",
       "      <th>682</th>\n",
       "      <td>40103.89000</td>\n",
       "      <td>40273.64550</td>\n",
       "    </tr>\n",
       "    <tr>\n",
       "      <th>629</th>\n",
       "      <td>42983.45850</td>\n",
       "      <td>48885.13561</td>\n",
       "    </tr>\n",
       "    <tr>\n",
       "      <th>893</th>\n",
       "      <td>44202.65360</td>\n",
       "      <td>45702.02235</td>\n",
       "    </tr>\n",
       "    <tr>\n",
       "      <th>807</th>\n",
       "      <td>2136.88225</td>\n",
       "      <td>2404.73380</td>\n",
       "    </tr>\n",
       "    <tr>\n",
       "      <th>1165</th>\n",
       "      <td>5227.98875</td>\n",
       "      <td>4992.37640</td>\n",
       "    </tr>\n",
       "  </tbody>\n",
       "</table>\n",
       "<p>268 rows × 2 columns</p>\n",
       "</div>"
      ],
      "text/plain": [
       "      Actual value  predicted value\n",
       "559     1646.42970       1263.24900\n",
       "1087   11353.22760      11842.62375\n",
       "1020    8798.59300       8457.81800\n",
       "460    10381.47870      10977.20630\n",
       "802     2103.08000       1964.78000\n",
       "...            ...              ...\n",
       "682    40103.89000      40273.64550\n",
       "629    42983.45850      48885.13561\n",
       "893    44202.65360      45702.02235\n",
       "807     2136.88225       2404.73380\n",
       "1165    5227.98875       4992.37640\n",
       "\n",
       "[268 rows x 2 columns]"
      ]
     },
     "execution_count": 24,
     "metadata": {},
     "output_type": "execute_result"
    }
   ],
   "source": [
    "df_first_model"
   ]
  },
  {
   "cell_type": "markdown",
   "id": "c44fffd6",
   "metadata": {},
   "source": [
    "**CALCULATING THE PRECISION OF THE MODEL**"
   ]
  },
  {
   "cell_type": "code",
   "execution_count": 25,
   "id": "52d2da67",
   "metadata": {},
   "outputs": [
    {
     "data": {
      "text/plain": [
       "0.7642329112325484"
      ]
     },
     "execution_count": 25,
     "metadata": {},
     "output_type": "execute_result"
    }
   ],
   "source": [
    "regressor.score(X_test, y_test)"
   ]
  },
  {
   "cell_type": "markdown",
   "id": "c8a1a419",
   "metadata": {},
   "source": [
    "**Observations:**\n",
    "- We have a 76% accuracy with our decision tree model"
   ]
  },
  {
   "cell_type": "markdown",
   "id": "2c7f53e9",
   "metadata": {},
   "source": [
    "## **Hyperparameter tuning**"
   ]
  },
  {
   "cell_type": "code",
   "execution_count": 35,
   "id": "ecf0b35c",
   "metadata": {},
   "outputs": [],
   "source": [
    "parameters={\"splitter\":[\"best\",\"random\"],\n",
    "            \"max_depth\" : [1,3,5,7],\n",
    "           \"min_samples_leaf\":[1,2,3,9],\n",
    "           \"min_weight_fraction_leaf\":[0.1,0.2,0.3,0.4],\n",
    "           \"max_features\":[\"auto\",\"log2\",\"sqrt\"],\n",
    "           \"max_leaf_nodes\":[10,20,30,40] }"
   ]
  },
  {
   "cell_type": "code",
   "execution_count": 36,
   "id": "7327d558",
   "metadata": {},
   "outputs": [],
   "source": [
    "# importing the gridsearch module\n",
    "from sklearn.model_selection import GridSearchCV\n",
    "\n",
    "tuning_regressor = GridSearchCV(regressor,param_grid=parameters,\n",
    "                          scoring='neg_mean_squared_error',cv=3,verbose=3)"
   ]
  },
  {
   "cell_type": "code",
   "execution_count": null,
   "id": "3b58312b",
   "metadata": {},
   "outputs": [],
   "source": [
    "# training the model\n",
    "tuning_regressor.fit(X_train, y_train)"
   ]
  },
  {
   "cell_type": "code",
   "execution_count": 38,
   "id": "c388a084",
   "metadata": {},
   "outputs": [
    {
     "data": {
      "text/plain": [
       "{'max_depth': 5,\n",
       " 'max_features': 'auto',\n",
       " 'max_leaf_nodes': 20,\n",
       " 'min_samples_leaf': 2,\n",
       " 'min_weight_fraction_leaf': 0.1,\n",
       " 'splitter': 'best'}"
      ]
     },
     "execution_count": 38,
     "metadata": {},
     "output_type": "execute_result"
    }
   ],
   "source": [
    "# printing the best parameters for our model\n",
    "tuning_regressor.best_params_"
   ]
  },
  {
   "cell_type": "markdown",
   "id": "377cd680",
   "metadata": {},
   "source": [
    "**BUILDING DECISION TREE WITH BEST PARAMETERS**"
   ]
  },
  {
   "cell_type": "code",
   "execution_count": 39,
   "id": "712b4982",
   "metadata": {},
   "outputs": [],
   "source": [
    "# creating decision tree with the best parameters\n",
    "tuned_hyper_regressor = DecisionTreeRegressor(max_depth=5,max_features='auto',\n",
    "                                              max_leaf_nodes = 20,min_samples_leaf = 2,\n",
    "                                         min_weight_fraction_leaf = 0.1,splitter='best')"
   ]
  },
  {
   "cell_type": "code",
   "execution_count": 40,
   "id": "31e91892",
   "metadata": {},
   "outputs": [
    {
     "data": {
      "text/plain": [
       "DecisionTreeRegressor(max_depth=5, max_features='auto', max_leaf_nodes=20,\n",
       "                      min_samples_leaf=2, min_weight_fraction_leaf=0.1)"
      ]
     },
     "execution_count": 40,
     "metadata": {},
     "output_type": "execute_result"
    }
   ],
   "source": [
    "# training the new model\n",
    "tuned_hyper_regressor.fit(X_train, y_train)"
   ]
  },
  {
   "cell_type": "code",
   "execution_count": 41,
   "id": "48d368d5",
   "metadata": {},
   "outputs": [],
   "source": [
    "# predicting the test values\n",
    "tuned_predict = tuned_hyper_regressor.predict(X_test)"
   ]
  },
  {
   "cell_type": "markdown",
   "id": "adec077d",
   "metadata": {},
   "source": [
    "**CALCULATING THE PRECISION OF THE MODEL**"
   ]
  },
  {
   "cell_type": "code",
   "execution_count": 42,
   "id": "b32a24d0",
   "metadata": {},
   "outputs": [
    {
     "data": {
      "text/plain": [
       "0.8494124065246363"
      ]
     },
     "execution_count": 42,
     "metadata": {},
     "output_type": "execute_result"
    }
   ],
   "source": [
    "# printing the score of the test data to see how accurate our model is\n",
    "tuned_hyper_regressor.score(X_test, y_test)"
   ]
  },
  {
   "cell_type": "markdown",
   "id": "32702754",
   "metadata": {},
   "source": [
    "**OBSERVATIONS:**\n",
    "- the model precision after we tuned the hyperparameters increased from 76% to 85% accuracy almost 10% improvement"
   ]
  },
  {
   "cell_type": "code",
   "execution_count": 48,
   "id": "550452f5",
   "metadata": {},
   "outputs": [
    {
     "data": {
      "image/png": "[encoded data removed]",
      "text/plain": [
       "<Figure size 432x288 with 1 Axes>"
      ]
     },
     "metadata": {
      "needs_background": "light"
     },
     "output_type": "display_data"
    }
   ],
   "source": [
    "feat_importances = pd.Series(tuned_hyper_regressor.feature_importances_, index=X_train.columns)\n",
    "feat_importances.nlargest(5).plot(kind='barh')\n",
    "plt.show()"
   ]
  },
  {
   "cell_type": "markdown",
   "id": "ee6321ea",
   "metadata": {},
   "source": [
    "**Observations:**\n",
    "- The `smoking` condition of the customer is the feature that impacts the most the `charges`.\n",
    "- Followed by the BMI and the age of the customer"
   ]
  },
  {
   "cell_type": "markdown",
   "id": "153ad56f",
   "metadata": {},
   "source": [
    "### BUILDING MODEL 2"
   ]
  },
  {
   "cell_type": "code",
   "execution_count": 43,
   "id": "c115255f",
   "metadata": {},
   "outputs": [
    {
     "data": {
      "text/plain": [
       "RandomForestRegressor(random_state=1)"
      ]
     },
     "execution_count": 43,
     "metadata": {},
     "output_type": "execute_result"
    }
   ],
   "source": [
    "rf_regressor = RandomForestRegressor(n_estimators = 100, random_state = 1)\n",
    "\n",
    "# fitting the model\n",
    "rf_regressor.fit(X_train, y_train)"
   ]
  },
  {
   "cell_type": "code",
   "execution_count": 44,
   "id": "cf9030c3",
   "metadata": {},
   "outputs": [],
   "source": [
    "# predicting the test data\n",
    "pred2 = rf_regressor.predict(X_test)"
   ]
  },
  {
   "cell_type": "code",
   "execution_count": 45,
   "id": "ab91eda3",
   "metadata": {},
   "outputs": [],
   "source": [
    "# creating dataframe to compare both the actual values and the predicted one.\n",
    "df_second_model = pd.DataFrame({'Actual values': y_test, 'Predicted values': pred2})"
   ]
  },
  {
   "cell_type": "code",
   "execution_count": 46,
   "id": "40a2d123",
   "metadata": {},
   "outputs": [
    {
     "data": {
      "text/html": [
       "<div>\n",
       "<style scoped>\n",
       "    .dataframe tbody tr th:only-of-type {\n",
       "        vertical-align: middle;\n",
       "    }\n",
       "\n",
       "    .dataframe tbody tr th {\n",
       "        vertical-align: top;\n",
       "    }\n",
       "\n",
       "    .dataframe thead th {\n",
       "        text-align: right;\n",
       "    }\n",
       "</style>\n",
       "<table border=\"1\" class=\"dataframe\">\n",
       "  <thead>\n",
       "    <tr style=\"text-align: right;\">\n",
       "      <th></th>\n",
       "      <th>Actual values</th>\n",
       "      <th>Predicted values</th>\n",
       "    </tr>\n",
       "  </thead>\n",
       "  <tbody>\n",
       "    <tr>\n",
       "      <th>559</th>\n",
       "      <td>1646.4297</td>\n",
       "      <td>1567.180331</td>\n",
       "    </tr>\n",
       "    <tr>\n",
       "      <th>1087</th>\n",
       "      <td>11353.2276</td>\n",
       "      <td>12563.575434</td>\n",
       "    </tr>\n",
       "    <tr>\n",
       "      <th>1020</th>\n",
       "      <td>8798.5930</td>\n",
       "      <td>8913.555257</td>\n",
       "    </tr>\n",
       "    <tr>\n",
       "      <th>460</th>\n",
       "      <td>10381.4787</td>\n",
       "      <td>11259.691310</td>\n",
       "    </tr>\n",
       "    <tr>\n",
       "      <th>802</th>\n",
       "      <td>2103.0800</td>\n",
       "      <td>2089.665900</td>\n",
       "    </tr>\n",
       "  </tbody>\n",
       "</table>\n",
       "</div>"
      ],
      "text/plain": [
       "      Actual values  Predicted values\n",
       "559       1646.4297       1567.180331\n",
       "1087     11353.2276      12563.575434\n",
       "1020      8798.5930       8913.555257\n",
       "460      10381.4787      11259.691310\n",
       "802       2103.0800       2089.665900"
      ]
     },
     "execution_count": 46,
     "metadata": {},
     "output_type": "execute_result"
    }
   ],
   "source": [
    "df_second_model.head()"
   ]
  },
  {
   "cell_type": "markdown",
   "id": "2fbfdcaa",
   "metadata": {},
   "source": [
    "**TESTING THE ACCURACY OF THE SECOND MODEL**"
   ]
  },
  {
   "cell_type": "code",
   "execution_count": 47,
   "id": "89dc357f",
   "metadata": {},
   "outputs": [
    {
     "data": {
      "text/plain": [
       "0.8480159884120858"
      ]
     },
     "execution_count": 47,
     "metadata": {},
     "output_type": "execute_result"
    }
   ],
   "source": [
    "rf_regressor.score(X_test, y_test)"
   ]
  },
  {
   "cell_type": "markdown",
   "id": "79968852",
   "metadata": {},
   "source": [
    "**Observations:**\n",
    "- The accuracy of the second model is ~85% which is almost hte same as the first model after tuning the hyperparameters."
   ]
  },
  {
   "cell_type": "markdown",
   "id": "7e93595e",
   "metadata": {},
   "source": [
    "**CURRENT PARAMETERS TO MODIFY**"
   ]
  },
  {
   "cell_type": "code",
   "execution_count": 50,
   "id": "627258ca",
   "metadata": {},
   "outputs": [
    {
     "data": {
      "text/plain": [
       "{'bootstrap': True,\n",
       " 'ccp_alpha': 0.0,\n",
       " 'criterion': 'mse',\n",
       " 'max_depth': None,\n",
       " 'max_features': 'auto',\n",
       " 'max_leaf_nodes': None,\n",
       " 'max_samples': None,\n",
       " 'min_impurity_decrease': 0.0,\n",
       " 'min_impurity_split': None,\n",
       " 'min_samples_leaf': 1,\n",
       " 'min_samples_split': 2,\n",
       " 'min_weight_fraction_leaf': 0.0,\n",
       " 'n_estimators': 100,\n",
       " 'n_jobs': None,\n",
       " 'oob_score': False,\n",
       " 'random_state': 1,\n",
       " 'verbose': 0,\n",
       " 'warm_start': False}"
      ]
     },
     "execution_count": 50,
     "metadata": {},
     "output_type": "execute_result"
    }
   ],
   "source": [
    "rf_regressor.get_params()"
   ]
  },
  {
   "cell_type": "markdown",
   "id": "1e0158ca",
   "metadata": {},
   "source": [
    "### **RANDOM FOREST HYPERPARAMETERS TUNING**"
   ]
  },
  {
   "cell_type": "code",
   "execution_count": 51,
   "id": "2e6aa57b",
   "metadata": {},
   "outputs": [],
   "source": [
    "parameters = {\"bootstrap\":[True, False],\n",
    "            \"max_depth\" : [10,20,30,40],\n",
    "           \"min_samples_leaf\":[1,2,3,4],\n",
    "           \"min_samples_split\":[2,5,7,10],\n",
    "           \"max_features\":[\"auto\",\"log2\",\"sqrt\"],\n",
    "           \"n_estimators\":[50,100,150,200] }"
   ]
  },
  {
   "cell_type": "code",
   "execution_count": 52,
   "id": "9b7f189b",
   "metadata": {},
   "outputs": [],
   "source": [
    "rf_regression_grid = GridSearchCV(rf_regressor, param_grid = parameters, cv = 3, n_jobs = -1, verbose = 3)"
   ]
  },
  {
   "cell_type": "code",
   "execution_count": null,
   "id": "e78147cf",
   "metadata": {},
   "outputs": [],
   "source": [
    "# training the model\n",
    "rf_regression_grid.fit(X_train, y_train)"
   ]
  },
  {
   "cell_type": "code",
   "execution_count": 54,
   "id": "5c76c3ff",
   "metadata": {},
   "outputs": [
    {
     "data": {
      "text/plain": [
       "{'bootstrap': True,\n",
       " 'max_depth': 20,\n",
       " 'max_features': 'auto',\n",
       " 'min_samples_leaf': 4,\n",
       " 'min_samples_split': 10,\n",
       " 'n_estimators': 100}"
      ]
     },
     "execution_count": 54,
     "metadata": {},
     "output_type": "execute_result"
    }
   ],
   "source": [
    "# best hyperparameters\n",
    "rf_regression_grid.best_params_"
   ]
  },
  {
   "cell_type": "code",
   "execution_count": 55,
   "id": "0a524d6a",
   "metadata": {},
   "outputs": [],
   "source": [
    "# creating random forest with the best parameters\n",
    "rf_regressor_tuned = RandomForestRegressor(bootstrap = True,\n",
    "                                          max_depth = 20,\n",
    "                                          max_features = 'auto',\n",
    "                                          min_samples_leaf = 4,\n",
    "                                          min_samples_split = 10,\n",
    "                                          n_estimators = 100)"
   ]
  },
  {
   "cell_type": "code",
   "execution_count": 56,
   "id": "3305caf6",
   "metadata": {},
   "outputs": [
    {
     "data": {
      "text/plain": [
       "RandomForestRegressor(max_depth=20, min_samples_leaf=4, min_samples_split=10)"
      ]
     },
     "execution_count": 56,
     "metadata": {},
     "output_type": "execute_result"
    }
   ],
   "source": [
    "# fitting the tunned model\n",
    "rf_regressor_tuned.fit(X_train, y_train)"
   ]
  },
  {
   "cell_type": "code",
   "execution_count": 57,
   "id": "36b74507",
   "metadata": {},
   "outputs": [],
   "source": [
    "# creating variable with the prediction of the test data with rf tunned model\n",
    "rf_tuned_predict = rf_regressor_tuned.predict(X_test)"
   ]
  },
  {
   "cell_type": "code",
   "execution_count": 58,
   "id": "137b6325",
   "metadata": {},
   "outputs": [
    {
     "data": {
      "text/plain": [
       "0.8768134873244532"
      ]
     },
     "execution_count": 58,
     "metadata": {},
     "output_type": "execute_result"
    }
   ],
   "source": [
    "# measuring the accuracy of the tunned random forest model\n",
    "rf_regressor_tuned.score(X_test, y_test)"
   ]
  },
  {
   "cell_type": "markdown",
   "id": "dbe599a1",
   "metadata": {},
   "source": [
    "**OBSERVATIONS:**\n",
    "- The result of the model are the best so far with a 88% accuracy agains the 85% accuracy of the tunned decision tree model."
   ]
  },
  {
   "cell_type": "code",
   "execution_count": 59,
   "id": "491c1ecf",
   "metadata": {},
   "outputs": [
    {
     "data": {
      "image/png": "[encoded data removed]",
      "text/plain": [
       "<Figure size 432x288 with 1 Axes>"
      ]
     },
     "metadata": {
      "needs_background": "light"
     },
     "output_type": "display_data"
    }
   ],
   "source": [
    "feat_importances = pd.Series(rf_regressor_tuned.feature_importances_, index=X_train.columns)\n",
    "feat_importances.nlargest(5).plot(kind='barh')\n",
    "plt.show()"
   ]
  },
  {
   "cell_type": "markdown",
   "id": "6156d305",
   "metadata": {},
   "source": [
    "**Observations:**\n",
    "- Just like the other models the most relevant feature when predicting the charges is whether the customer is a `smoker` or not.\n",
    "-  Followed by `BMI`, `Age` and a new features of importance that was not present in the other models which is if the customers have `children or dependants`."
   ]
  },
  {
   "cell_type": "markdown",
   "id": "d0db337b",
   "metadata": {},
   "source": [
    "## **Conclusion**\n",
    "- The after creating 2 different models and tuned their parameters, the random forest with the tunned parameters return the best result out of all, making it the best model with an overall accuracy of 88% and the most important parameters that influenced the result were the `smoker` status, the `BMI`, `Age` and the `children or dependants`."
   ]
  }
 ],
 "metadata": {
  "kernelspec": {
   "display_name": "Python 3 (ipykernel)",
   "language": "python",
   "name": "python3"
  },
  "language_info": {
   "codemirror_mode": {
    "name": "ipython",
    "version": 3
   },
   "file_extension": ".py",
   "mimetype": "text/x-python",
   "name": "python",
   "nbconvert_exporter": "python",
   "pygments_lexer": "ipython3",
   "version": "3.9.7"
  }
 },
 "nbformat": 4,
 "nbformat_minor": 5
}
